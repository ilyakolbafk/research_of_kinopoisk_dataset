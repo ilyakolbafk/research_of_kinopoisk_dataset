{
 "cells": [
  {
   "cell_type": "markdown",
   "metadata": {
    "pycharm": {
     "name": "#%% md\n"
    }
   },
   "source": [
    "### Шаг 1. \n",
    "\n",
    "Выбранный датасет: сайт кинопоиска\n",
    "\n",
    "А именно фильмы у которых есть хотя бы 100000 оценок на Кинопоиске ($\\approx$ 800 штук) (хотя, конечно, брать от 100к оценок получится немного нерепрезентативно, но можно скзаать, что датасет будет состоять из 800 самых популярных фильмов по мнению пользователей кинопоиска)\n",
    "\n",
    "Соотвественно столбцы это средняя оценка на кинопоиске, количество оценок, тоже самое на IMDb, на страничках фильмов: год, страна, жанр, сборы, режисер и т. д.\n",
    "\n",
    "Для начала заходим на навигатор кинопоиска, затем ставим ограничение по количеству оценок, то что это должен быть фильм, и сбрасываем остальные ограничения. Переходим на 2 страничку, для того чтобы понять как выглядит ссылка для рызных страниц. Получаем ссылку из адресной строки и меняем в ней после page 2 на 1. \n",
    "\n",
    "https://www.kinopoisk.ru/top/navigator/m_act[num_vote]/10000/m_act[rating]/1%3A/m_act[is_film]/on/order/rating/page/1/#results"
   ]
  },
  {
   "cell_type": "code",
   "execution_count": 599,
   "metadata": {
    "pycharm": {
     "name": "#%%\n"
    }
   },
   "outputs": [
    {
     "data": {
      "text/plain": [
       "<Response [200]>"
      ]
     },
     "execution_count": 599,
     "metadata": {},
     "output_type": "execute_result"
    }
   ],
   "source": [
    "import requests as rq\n",
    "import pandas as pd\n",
    "from bs4 import BeautifulSoup\n",
    "import time\n",
    "import numpy as np\n",
    "from tqdm.notebook import tqdm\n",
    "from fake_useragent import UserAgent\n",
    "\n",
    "r = rq.get(\n",
    "    'https://www.kinopoisk.ru/top/navigator/m_act[num_vote]/100000/m_act[rating]/1%3A/m_act[is_film]/on/order/rating/perpage/50/page/1/#results')\n",
    "r"
   ]
  },
  {
   "cell_type": "markdown",
   "metadata": {
    "pycharm": {
     "name": "#%% md\n"
    }
   },
   "source": [
    "Замечаем, что нас пока что пускают на сайт и парсим красивым супом страничку."
   ]
  },
  {
   "cell_type": "code",
   "execution_count": 693,
   "metadata": {
    "pycharm": {
     "name": "#%%\n"
    }
   },
   "outputs": [],
   "source": [
    "web = BeautifulSoup(r.text, 'html.parser')"
   ]
  },
  {
   "cell_type": "markdown",
   "metadata": {
    "pycharm": {
     "name": "#%% md\n"
    }
   },
   "source": [
    "Теперь нам надо определить как выглядит тег в котором лежит отдельный фильм.\n",
    "\n",
    "Понимаем, что это div с атрибутом class=\"item _NO_HIGHLIGHT_\"\n",
    "\n",
    "Заберем их пока что с первой странички\n"
   ]
  },
  {
   "cell_type": "code",
   "execution_count": 601,
   "metadata": {
    "scrolled": true
   },
   "outputs": [
    {
     "data": {
      "text/plain": [
       "<div class=\"item _NO_HIGHLIGHT_\" id=\"tr_326\">\n",
       "<div class=\"poster_and_flags\">\n",
       "<div class=\"poster\"><a href=\"/level/1/film/326/\"><img alt=\"Побег из Шоушенка (The Shawshank Redemption1994)\" class=\"flap_img\" src=\"https://st.kp.yandex.net/images/sm_film/326.jpg\" title=\"/images/sm_film/326.jpg\"/></a>\n",
       "<div class=\"playTrailer movie-play-trailer-button js-discovery-trailer\" data-film-id=\"326\"></div>\n",
       "</div>\n",
       "<div class=\"flags\"> <div class=\"flag flag1\" style=\"float: left; margin: 0 2px 5px 0\">\n",
       "<a href=\"/lists/m_act[country]/1/\" title=\"США\"></a>\n",
       "</div>\n",
       "</div>\n",
       "<table border=\"0\" cellpadding=\"0\" cellspacing=\"0\" width=\"100%\"><tr><td>\n",
       "<span align=\"left\" style=\"position: relative\">\n",
       "<span style=\"position: absolute; z-index: 20; visibility: visible; left:0px;\">\n",
       "<span id=\"handler_div_recom_448\"></span>\n",
       "</span>\n",
       "</span>\n",
       "</td></tr></table>\n",
       "</div>\n",
       "<div class=\"info\">\n",
       "<div class=\"name\"><a href=\"/level/1/film/326/\">Побег из Шоушенка</a> <span>The Shawshank Redemption (1994) <nobr>142 мин.</nobr></span></div>\n",
       "<span class=\"gray_text\">\n",
       "         США,\n",
       "         <i>реж. <a class=\"lined\" href=\"/name/24262/\">Фрэнк Дарабонт</a></i><br/>\n",
       "         (драма)\n",
       "      </span>\n",
       "<span class=\"gray_text\"><a class=\"lined\" href=\"/name/7987/\">Тим Роббинс</a>, <a class=\"lined\" href=\"/name/6750/\">Морган Фриман</a>, <a class=\"lined\" href=\"/film/326/cast/#actor\">...</a></span>\n",
       "<span class=\"gray_text\"></span>\n",
       "<div class=\"js-ott-widget\" data-from=\"kp\" data-kp-film-id=\"326\" data-title=\"Побег из Шоушенка\" style=\"display: none;\">\n",
       "<a class=\"movie-online-button movie-online-button_on_list-item js-ott-widget__button\" data-from-block=\"navigator\">\n",
       "</a>\n",
       "</div>\n",
       "</div>\n",
       "<div class=\"clear\"></div>\n",
       "<div class=\"WidgetStars\" id=\"film_votes_326\" value=\"9.109\"></div>\n",
       "<script type=\"text/javascript\">\n",
       "      $(function(){\n",
       "         KP.Stars.widget({\n",
       "             divcontainer:\"#film_votes_326\",\n",
       "             rating:9.109,\n",
       "             \n",
       "             guest:true,\n",
       "             \n",
       "             \n",
       "             filmId:326,\n",
       "             filmName:'Побег из Шоушенка'\n",
       "         });\n",
       "      });\n",
       "   </script>\n",
       "<div class=\"numVote ratingGreenBG\"><span>9.109 <span>(765 699)</span></span></div>\n",
       "<div class=\"imdb\">IMDb: 9.30<span>2 401 223</span></div>\n",
       "<div class=\"myVote\" id=\"user_vote_326\" style=\"display: none\"><p></p><!-- <a href=\"\" class=\"all\" style=\"color: #fff\"></a> --></div>\n",
       "<div class=\"eye\" id=\"film_eye_326\"></div>\n",
       "<div class=\"MyKP_Folder_Select shortselect\" data=\"film\" id=\"MyKP_Folder_326\" style=\"z-index:1000;\"></div>\n",
       "</div>"
      ]
     },
     "metadata": {},
     "output_type": "display_data"
    }
   ],
   "source": [
    "list_of_films_from_first_page = web.findAll('div', {\"class\": \"item _NO_HIGHLIGHT_\"})\n",
    "display(list_of_films_from_first_page[0])"
   ]
  },
  {
   "cell_type": "markdown",
   "metadata": {
    "pycharm": {
     "name": "#%% md\n"
    }
   },
   "source": [
    "C этого дива будем забирать название, ссылку на страницу фильма, оценку на кинопоиске и IMDb и количество этих оценок.\n",
    "\n",
    "Имя лежит в теге a, который лежит в диве с классом name, там же лежит ссылка вида href=\"/level/1/film/326/\", перейдем по ней и заметим что мы находимся на https://www.kinopoisk.ru/film/326/, следовательно для того чтобы получить ссылку на фильм надо взять то что лежит после /level/1 и подставить после https://www.kinopoisk.ru\n",
    "\n",
    "Оценка на кинопоиске и их количество лежат в спанах в дивах с классом numVote, причем количество имеет ужасный вид: (30&nbsp;560), значит будем удалять скобки и & nbsp;\n",
    "\n",
    "Рядом в классе imdb лежат оценки и их количество на IMDb, причем оценка имеет вид: IMDb: 2.70, что тоже надо будет фиксить\n",
    "\n",
    "На страничке о фильме нас интересует раздел О фильме, соотвественно див с data-test-id=\"encyclopedic-table\"\n",
    "\n",
    "Каждая строка с информацией это див с data-tid=\"a25321e6\"\n",
    "\n",
    "Левая часть строки (название парметра) лежит в первом внутреннем диве\n",
    "Информация о парметре лежит в внутренних тегах a или div внутри второго внутреннего дива\n",
    "\n",
    "Информацию о фильме будем хранить в виде списка, где первые 5 парметров с начальной страницы записаны в виде самого значения, а остальные в виде \"<название парметра> <значение (список значений)>\""
   ]
  },
  {
   "cell_type": "markdown",
   "metadata": {
    "pycharm": {
     "name": "#%% md\n"
    }
   },
   "source": [
    "Случилось неожиданное (ну наверное с таким сайтом стоило такого ожидать) и сайтик нас кидает на капчу, через несколько открытых страниц, поэтому будем заполнять поочередно через разные прокси и т. д. (стоит надеяться что \"попяцот\" наберется)"
   ]
  },
  {
   "cell_type": "markdown",
   "metadata": {
    "pycharm": {
     "name": "#%% md\n"
    }
   },
   "source": [
    "Необходимо, по крайней мере будет удобнее, создать список из списков фильмов, чтобы потом пройтись по ним циклом в котором будут меняться прокси как бы автоматически (так как делать это 20 раз не совсем чтобы удобно)\n"
   ]
  },
  {
   "cell_type": "code",
   "execution_count": 12,
   "metadata": {},
   "outputs": [],
   "source": [
    "list_of_films_from_pages = []\n",
    "page_counter = 1"
   ]
  },
  {
   "cell_type": "code",
   "execution_count": 145,
   "metadata": {},
   "outputs": [
    {
     "data": {
      "application/vnd.jupyter.widget-view+json": {
       "model_id": "b50935adb99c40e79120ae2921073808",
       "version_major": 2,
       "version_minor": 0
      },
      "text/plain": [
       "  0%|          | 0/1 [00:00<?, ?it/s]"
      ]
     },
     "metadata": {},
     "output_type": "display_data"
    }
   ],
   "source": [
    "ua = UserAgent()\n",
    "proxies = {'https': '144.217.72.194:32769'}\n",
    "for i in tqdm(range(1, 16)):\n",
    "    page_link = f'https://www.kinopoisk.ru/top/navigator/m_act[num_vote]/100000/m_act[rating]/1%3A/m_act[is_film]/on/order/rating/page/{i}/#results'\n",
    "    page = BeautifulSoup(rq.get(page_link, headers={'User-Agent': ua.chrome}, proxies=proxies).text,\n",
    "                         'html.parser')\n",
    "    list_of_films_from_other_pages[i - 1] = page.findAll('div', {\"class\": \"item _NO_HIGHLIGHT_\"})\n",
    "    time.sleep(5)"
   ]
  },
  {
   "cell_type": "code",
   "execution_count": null,
   "metadata": {},
   "outputs": [],
   "source": [
    "list_of_films_from_pages"
   ]
  },
  {
   "cell_type": "markdown",
   "metadata": {
    "pycharm": {
     "name": "#%% md\n"
    }
   },
   "source": [
    "Теперь пройдемся двойным циклом по списку списков фильмов используя список из прокси с сайта http://free-proxy.cz/ru/proxylist/country/all/https/ping/all (вообще было бы по заданию спарсить это, но 5 раз скопировать и вставить в файлик просто быстрее), которые будем менять при ошибке и пойдем спать"
   ]
  },
  {
   "cell_type": "code",
   "execution_count": 27,
   "metadata": {
    "pycharm": {
     "is_executing": true
    }
   },
   "outputs": [],
   "source": [
    "page_counter = 0\n",
    "film_counter = 0"
   ]
  },
  {
   "cell_type": "code",
   "execution_count": null,
   "metadata": {},
   "outputs": [],
   "source": [
    "f = open('proxies.txt', 'r')\n",
    "proxies_list = f.read().split('\\n')\n",
    "proxies_counter = 0"
   ]
  },
  {
   "cell_type": "code",
   "execution_count": null,
   "metadata": {},
   "outputs": [],
   "source": [
    "ua = UserAgent(verify_ssl=False)\n",
    "c = 0\n",
    "proxies = {'https': proxies_list[proxies_counter % len(proxies_list)]}\n",
    "for list_of_films_from_one_page in tqdm(list_of_films_from_pages[page_counter:]):\n",
    "    for film in tqdm(list_of_films_from_one_page[film_counter:]):\n",
    "        while True:\n",
    "            try:\n",
    "                ua = UserAgent(verify_ssl=False)\n",
    "                teg_a = film.find('div', {'class': 'name'}).find('a')\n",
    "                link_to_film_page = 'https://www.kinopoisk.ru' + teg_a.get('href')[8:]\n",
    "                name_of_film = ('Название', teg_a.text)\n",
    "                mark_n_count_kinopoisk = film.find('div', {'class': 'numVote'}).find('span')\n",
    "                mark_kinopoisk = ('Средняя оценка на Кинопоиск', float(mark_n_count_kinopoisk.text[:5]))\n",
    "                count_kinopoisk = ('Количество оценок на Кинопоиск',\n",
    "                                   int(mark_n_count_kinopoisk.find('span').text[1:-1].replace('\\xa0', '')))\n",
    "                mark_n_count_imdb = film.find('div', {'class': 'imdb'})\n",
    "                if mark_n_count_imdb is None:\n",
    "                    mark_imdb = ('Средняя оценка на IMDb', None)\n",
    "                    count_imdb = ('Количество оценок на IMDb', None)\n",
    "                else:\n",
    "                    mark_imdb = ('Средняя оценка на IMDb', float(mark_n_count_imdb.text[6:10]))\n",
    "                    count_imdb = ('Количество оценок на IMDb',\n",
    "                                  int(mark_n_count_imdb.find('span').text.replace('\\xa0', '')))\n",
    "                r = rq.get(link_to_film_page, headers={'User-Agent': ua.chrome}, proxies=proxies, timeout=5)\n",
    "                film_page = BeautifulSoup(r.text, 'html.parser')\n",
    "                film_info = []\n",
    "                for row in film_page.find('div', {'data-test-id': 'encyclopedic-table'}).find_all('div', {\n",
    "                    'data-tid': 'a25321e6'}):\n",
    "                    param, value = row\n",
    "                    info = []\n",
    "                    for i in value.find_all('div'):\n",
    "                        info.append(i.text.replace('\\xa0', ''))\n",
    "                    for i in value.find_all('a'):\n",
    "                        info.append(i.text.replace('\\xa0', ''))\n",
    "                    if info[-1] == 'слова' or info[-1] == '...':\n",
    "                        info = info[:-1]\n",
    "                    if len(info) > 0 and len(info[0].split(',')) == len(info) - 1:\n",
    "                        info = info[1:]\n",
    "                    if len(info) == 1:\n",
    "                        info = info[0]\n",
    "                    film_info.append((param.text, info))\n",
    "                time.sleep(3)\n",
    "                info_of_films.append([name_of_film, mark_kinopoisk, count_kinopoisk, mark_imdb, count_imdb, *film_info])\n",
    "                film_counter += 1\n",
    "                c += 1\n",
    "                break\n",
    "            except Exception as e:\n",
    "                if c == 0:\n",
    "                    proxies_list.pop(proxies_counter % len(proxies_list))\n",
    "                proxies_counter += 1\n",
    "                с = 0\n",
    "                proxies = {'https': proxies_list[proxies_counter % len(proxies_list)]}\n",
    "                print(str(e))\n",
    "    page_counter += 1\n",
    "    film_counter = 0"
   ]
  },
  {
   "cell_type": "code",
   "execution_count": 193,
   "metadata": {},
   "outputs": [
    {
     "data": {
      "text/plain": [
       "'134.122.84.79:3128'"
      ]
     },
     "execution_count": 193,
     "metadata": {},
     "output_type": "execute_result"
    }
   ],
   "source": [
    "proxies_list.pop(proxies_counter % len(proxies_list))"
   ]
  },
  {
   "cell_type": "code",
   "execution_count": 200,
   "metadata": {},
   "outputs": [
    {
     "data": {
      "text/plain": [
       "795"
      ]
     },
     "execution_count": 200,
     "metadata": {},
     "output_type": "execute_result"
    }
   ],
   "source": [
    "len(info_of_films)"
   ]
  },
  {
   "cell_type": "markdown",
   "metadata": {
    "pycharm": {
     "name": "#%% md\n"
    }
   },
   "source": [
    "Теперь у нас есть все 795 фильмов, информация о которых записана в списках из кортежей\n",
    "\n",
    "Теперь соберем все возможные столбцы"
   ]
  },
  {
   "cell_type": "code",
   "execution_count": 210,
   "metadata": {
    "scrolled": true
   },
   "outputs": [
    {
     "data": {
      "text/plain": [
       "{'Цифровой релиз': [],\n",
       " 'Бюджет': [],\n",
       " 'Количество оценок на IMDb': [],\n",
       " 'Страна': [],\n",
       " 'Монтаж': [],\n",
       " 'Сборы в России': [],\n",
       " 'Продюсер': [],\n",
       " 'Время': [],\n",
       " 'Сборы в США': [],\n",
       " 'Рейтинг MPAA': [],\n",
       " 'Оператор': [],\n",
       " 'Сборы в мире': [],\n",
       " 'Зрители': [],\n",
       " 'Релиз на Blu-ray': [],\n",
       " 'Жанр': [],\n",
       " 'Художник': [],\n",
       " 'Маркетинг': [],\n",
       " 'Слоган': [],\n",
       " 'Количество оценок на Кинопоиск': [],\n",
       " 'Ре-релиз (РФ)': [],\n",
       " 'Средняя оценка на Кинопоиск': [],\n",
       " 'Название': [],\n",
       " 'Режиссер': [],\n",
       " 'Возраст': [],\n",
       " 'Сценарий': [],\n",
       " 'Премьера в мире': [],\n",
       " 'Композитор': [],\n",
       " 'Директор фильма': [],\n",
       " 'Средняя оценка на IMDb': [],\n",
       " 'Премьера в Росcии': [],\n",
       " 'Год производства': [],\n",
       " 'Релиз на DVD': []}"
      ]
     },
     "execution_count": 210,
     "metadata": {},
     "output_type": "execute_result"
    }
   ],
   "source": [
    "columns = []\n",
    "for film in info_of_films:\n",
    "    for row in film:\n",
    "        columns.append(row[0])\n",
    "table = {i: [] for i in list(set(columns))}\n",
    "table"
   ]
  },
  {
   "cell_type": "code",
   "execution_count": null,
   "metadata": {
    "scrolled": true
   },
   "outputs": [],
   "source": [
    "for film in info_of_films:\n",
    "    keys = list(i[0] for i in film)\n",
    "    values = list(i[1] for i in film)\n",
    "    for key in table.keys():\n",
    "        if key in keys:\n",
    "            table[key].append(values[keys.index(key)])\n",
    "        else:\n",
    "            table[key].append(None)"
   ]
  },
  {
   "cell_type": "code",
   "execution_count": 632,
   "metadata": {
    "scrolled": true
   },
   "outputs": [
    {
     "data": {
      "text/html": [
       "<div>\n",
       "<style scoped>\n",
       "    .dataframe tbody tr th:only-of-type {\n",
       "        vertical-align: middle;\n",
       "    }\n",
       "\n",
       "    .dataframe tbody tr th {\n",
       "        vertical-align: top;\n",
       "    }\n",
       "\n",
       "    .dataframe thead th {\n",
       "        text-align: right;\n",
       "    }\n",
       "</style>\n",
       "<table border=\"1\" class=\"dataframe\">\n",
       "  <thead>\n",
       "    <tr style=\"text-align: right;\">\n",
       "      <th></th>\n",
       "      <th>Цифровой релиз</th>\n",
       "      <th>Бюджет</th>\n",
       "      <th>Количество оценок на IMDb</th>\n",
       "      <th>Страна</th>\n",
       "      <th>Монтаж</th>\n",
       "      <th>Сборы в России</th>\n",
       "      <th>Продюсер</th>\n",
       "      <th>Время</th>\n",
       "      <th>Сборы в США</th>\n",
       "      <th>Рейтинг MPAA</th>\n",
       "      <th>...</th>\n",
       "      <th>Режиссер</th>\n",
       "      <th>Возраст</th>\n",
       "      <th>Сценарий</th>\n",
       "      <th>Премьера в мире</th>\n",
       "      <th>Композитор</th>\n",
       "      <th>Директор фильма</th>\n",
       "      <th>Средняя оценка на IMDb</th>\n",
       "      <th>Премьера в Росcии</th>\n",
       "      <th>Год производства</th>\n",
       "      <th>Релиз на DVD</th>\n",
       "    </tr>\n",
       "    <tr>\n",
       "      <th>Название</th>\n",
       "      <th></th>\n",
       "      <th></th>\n",
       "      <th></th>\n",
       "      <th></th>\n",
       "      <th></th>\n",
       "      <th></th>\n",
       "      <th></th>\n",
       "      <th></th>\n",
       "      <th></th>\n",
       "      <th></th>\n",
       "      <th></th>\n",
       "      <th></th>\n",
       "      <th></th>\n",
       "      <th></th>\n",
       "      <th></th>\n",
       "      <th></th>\n",
       "      <th></th>\n",
       "      <th></th>\n",
       "      <th></th>\n",
       "      <th></th>\n",
       "      <th></th>\n",
       "    </tr>\n",
       "  </thead>\n",
       "  <tbody>\n",
       "    <tr>\n",
       "      <th>Унесенные ветром</th>\n",
       "      <td>None</td>\n",
       "      <td>$3977000</td>\n",
       "      <td>294790</td>\n",
       "      <td>США</td>\n",
       "      <td>None</td>\n",
       "      <td>None</td>\n",
       "      <td>Дэвид О. Селзник</td>\n",
       "      <td>222 мин. / 03:42</td>\n",
       "      <td>$189523031</td>\n",
       "      <td>PGрекомендуется присутствие родителей</td>\n",
       "      <td>...</td>\n",
       "      <td>[Виктор Флеминг, Джордж Кьюкор, Сэм Вуд]</td>\n",
       "      <td>12+</td>\n",
       "      <td>[Сидни Ховард, Оливер Х.П. Гаррет, Бен Хект]</td>\n",
       "      <td>15 декабря 1939</td>\n",
       "      <td>Макс Штайнер</td>\n",
       "      <td>None</td>\n",
       "      <td>8.10</td>\n",
       "      <td>None</td>\n",
       "      <td>1939</td>\n",
       "      <td>7 августа 2002, «Мост-Видео»</td>\n",
       "    </tr>\n",
       "    <tr>\n",
       "      <th>Римские каникулы</th>\n",
       "      <td>None</td>\n",
       "      <td>$1500000</td>\n",
       "      <td>129480</td>\n",
       "      <td>США</td>\n",
       "      <td>Роберт Свинк</td>\n",
       "      <td>None</td>\n",
       "      <td>[Уильям Уайлер, Роберт Уайлер, Лестер Кениг]</td>\n",
       "      <td>118 мин. / 01:58</td>\n",
       "      <td>$5000000</td>\n",
       "      <td>None</td>\n",
       "      <td>...</td>\n",
       "      <td>Уильям Уайлер</td>\n",
       "      <td>6+</td>\n",
       "      <td>[Далтон Трамбо, Йен МакЛеллан Хантер, Джон Дай...</td>\n",
       "      <td>20 августа 1953</td>\n",
       "      <td>Жорж Орик</td>\n",
       "      <td>None</td>\n",
       "      <td>8.00</td>\n",
       "      <td>None</td>\n",
       "      <td>1953</td>\n",
       "      <td>9 декабря 2003, «Film Prestige»</td>\n",
       "    </tr>\n",
       "    <tr>\n",
       "      <th>12 разгневанных мужчин</th>\n",
       "      <td>None</td>\n",
       "      <td>$340000</td>\n",
       "      <td>707165</td>\n",
       "      <td>США</td>\n",
       "      <td>Карл Лернер</td>\n",
       "      <td>None</td>\n",
       "      <td>[Генри Фонда, Реджинальд Роуз, Джордж Джастин]</td>\n",
       "      <td>96 мин. / 01:36</td>\n",
       "      <td>None</td>\n",
       "      <td>None</td>\n",
       "      <td>...</td>\n",
       "      <td>Сидни Люмет</td>\n",
       "      <td>16+</td>\n",
       "      <td>Реджинальд Роуз</td>\n",
       "      <td>10 апреля 1957</td>\n",
       "      <td>Кенион Хопкинс</td>\n",
       "      <td>None</td>\n",
       "      <td>9.00</td>\n",
       "      <td>None</td>\n",
       "      <td>1956</td>\n",
       "      <td>None</td>\n",
       "    </tr>\n",
       "    <tr>\n",
       "      <th>В джазе только девушки</th>\n",
       "      <td>None</td>\n",
       "      <td>$2883848</td>\n",
       "      <td>248217</td>\n",
       "      <td>США</td>\n",
       "      <td>Артур П. Шмидт</td>\n",
       "      <td>None</td>\n",
       "      <td>[Билли Уайлдер, И.А.Л. Даймонд, Доан Харрисон]</td>\n",
       "      <td>119 мин. / 01:59</td>\n",
       "      <td>$25000000</td>\n",
       "      <td>None</td>\n",
       "      <td>...</td>\n",
       "      <td>Билли Уайлдер</td>\n",
       "      <td>12+</td>\n",
       "      <td>[Билли Уайлдер, И.А.Л. Даймонд, Роберт Тёрен]</td>\n",
       "      <td>19 марта 1959</td>\n",
       "      <td>Адольф Дойч</td>\n",
       "      <td>None</td>\n",
       "      <td>8.20</td>\n",
       "      <td>None</td>\n",
       "      <td>1959</td>\n",
       "      <td>19 февраля 2003, «DVD Магия»</td>\n",
       "    </tr>\n",
       "    <tr>\n",
       "      <th>Психо</th>\n",
       "      <td>None</td>\n",
       "      <td>$806947</td>\n",
       "      <td>616212</td>\n",
       "      <td>США</td>\n",
       "      <td>Джордж Томазини</td>\n",
       "      <td>$39919</td>\n",
       "      <td>Альфред Хичкок</td>\n",
       "      <td>109 мин. / 01:49</td>\n",
       "      <td>$32000000</td>\n",
       "      <td>Rлицам до 17 лет обязательно присутствие взрос...</td>\n",
       "      <td>...</td>\n",
       "      <td>Альфред Хичкок</td>\n",
       "      <td>16+</td>\n",
       "      <td>Роберт Блох</td>\n",
       "      <td>16 июня 1960</td>\n",
       "      <td>Бернард Херрманн</td>\n",
       "      <td>None</td>\n",
       "      <td>8.50</td>\n",
       "      <td>«Иноекино»</td>\n",
       "      <td>1960</td>\n",
       "      <td>None</td>\n",
       "    </tr>\n",
       "    <tr>\n",
       "      <th>...</th>\n",
       "      <td>...</td>\n",
       "      <td>...</td>\n",
       "      <td>...</td>\n",
       "      <td>...</td>\n",
       "      <td>...</td>\n",
       "      <td>...</td>\n",
       "      <td>...</td>\n",
       "      <td>...</td>\n",
       "      <td>...</td>\n",
       "      <td>...</td>\n",
       "      <td>...</td>\n",
       "      <td>...</td>\n",
       "      <td>...</td>\n",
       "      <td>...</td>\n",
       "      <td>...</td>\n",
       "      <td>...</td>\n",
       "      <td>...</td>\n",
       "      <td>...</td>\n",
       "      <td>...</td>\n",
       "      <td>...</td>\n",
       "      <td>...</td>\n",
       "    </tr>\n",
       "    <tr>\n",
       "      <th>Аферистка</th>\n",
       "      <td>«Вольга»</td>\n",
       "      <td>None</td>\n",
       "      <td>99150</td>\n",
       "      <td>Великобритания</td>\n",
       "      <td>Марк Экерсли</td>\n",
       "      <td>$830916</td>\n",
       "      <td>[Бен Стиллман, Андреа Аджемиан, Дж. Блэйксон]</td>\n",
       "      <td>118 мин. / 01:58</td>\n",
       "      <td>None</td>\n",
       "      <td>Rлицам до 17 лет обязательно присутствие взрос...</td>\n",
       "      <td>...</td>\n",
       "      <td>Дж. Блэйксон</td>\n",
       "      <td>18+</td>\n",
       "      <td>Дж. Блэйксон</td>\n",
       "      <td>12 сентября 2020</td>\n",
       "      <td>Марк Канэм</td>\n",
       "      <td>None</td>\n",
       "      <td>6.30</td>\n",
       "      <td>«Вольга»</td>\n",
       "      <td>2020</td>\n",
       "      <td>None</td>\n",
       "    </tr>\n",
       "    <tr>\n",
       "      <th>Майор Гром: Чумной Доктор</th>\n",
       "      <td>None</td>\n",
       "      <td>None</td>\n",
       "      <td>2593</td>\n",
       "      <td>Россия</td>\n",
       "      <td>Александр Пузырёв</td>\n",
       "      <td>$4458320</td>\n",
       "      <td>[Артем Габрелянов, Михаил Китаев, Ольга Филипук]</td>\n",
       "      <td>136 мин. / 02:16</td>\n",
       "      <td>None</td>\n",
       "      <td>None</td>\n",
       "      <td>...</td>\n",
       "      <td>Олег Трофим</td>\n",
       "      <td>12+</td>\n",
       "      <td>[Артем Габрелянов, Роман Котков, Евгений Еронин]</td>\n",
       "      <td>None</td>\n",
       "      <td>Роман Селиверстов</td>\n",
       "      <td>None</td>\n",
       "      <td>6.50</td>\n",
       "      <td>«Дисней Студиос»</td>\n",
       "      <td>2021</td>\n",
       "      <td>None</td>\n",
       "    </tr>\n",
       "    <tr>\n",
       "      <th>Лига справедливости Зака Снайдера</th>\n",
       "      <td>«КиноПоиск HD»</td>\n",
       "      <td>$370000000</td>\n",
       "      <td>293515</td>\n",
       "      <td>Великобритания</td>\n",
       "      <td>[Дэвид Бреннер, Карлос М. Кастильон, Доди Дорн]</td>\n",
       "      <td>None</td>\n",
       "      <td>[Бен Аффлек, Уэсли Коллер, Марианн Дженкинс]</td>\n",
       "      <td>242 мин. / 04:02</td>\n",
       "      <td>None</td>\n",
       "      <td>Rлицам до 17 лет обязательно присутствие взрос...</td>\n",
       "      <td>...</td>\n",
       "      <td>Зак Снайдер</td>\n",
       "      <td>18+</td>\n",
       "      <td>[Крис Террио, Джерри Сигел, Джо Шустер]</td>\n",
       "      <td>18 марта 2021</td>\n",
       "      <td>Junkie XL</td>\n",
       "      <td>None</td>\n",
       "      <td>8.10</td>\n",
       "      <td>None</td>\n",
       "      <td>2021</td>\n",
       "      <td>None</td>\n",
       "    </tr>\n",
       "    <tr>\n",
       "      <th>Мажор. Фильм</th>\n",
       "      <td>«КиноПоиск HD»</td>\n",
       "      <td>None</td>\n",
       "      <td>153</td>\n",
       "      <td>Россия</td>\n",
       "      <td>Александр Иванов</td>\n",
       "      <td>None</td>\n",
       "      <td>[Александр Цекало, Иван Самохвалов, Александра...</td>\n",
       "      <td>98 мин. / 01:38</td>\n",
       "      <td>None</td>\n",
       "      <td>None</td>\n",
       "      <td>...</td>\n",
       "      <td>Николай Булыгин</td>\n",
       "      <td>16+</td>\n",
       "      <td>Олег Маловичко</td>\n",
       "      <td>None</td>\n",
       "      <td>Ryan Otter</td>\n",
       "      <td>None</td>\n",
       "      <td>5.40</td>\n",
       "      <td>None</td>\n",
       "      <td>2021</td>\n",
       "      <td>None</td>\n",
       "    </tr>\n",
       "    <tr>\n",
       "      <th>Конёк-Горбунок</th>\n",
       "      <td>«Sony Pictures Home Entertainment»</td>\n",
       "      <td>760000000 руб.</td>\n",
       "      <td>430</td>\n",
       "      <td>Россия</td>\n",
       "      <td>Константин Ларченко</td>\n",
       "      <td>$15814332</td>\n",
       "      <td>[Антон Златопольский, Сергей Сельянов, Алексан...</td>\n",
       "      <td>111 мин. / 01:51</td>\n",
       "      <td>None</td>\n",
       "      <td>None</td>\n",
       "      <td>...</td>\n",
       "      <td>Олег Погодин</td>\n",
       "      <td>6+</td>\n",
       "      <td>[Алексей Бородачёв, Олег Погодин, Петр Ершов]</td>\n",
       "      <td>None</td>\n",
       "      <td>[Иван Бурляев, Дмитрий Носков, Константин Купр...</td>\n",
       "      <td>None</td>\n",
       "      <td>5.80</td>\n",
       "      <td>«СППР»</td>\n",
       "      <td>2021</td>\n",
       "      <td>None</td>\n",
       "    </tr>\n",
       "  </tbody>\n",
       "</table>\n",
       "<p>795 rows × 31 columns</p>\n",
       "</div>"
      ],
      "text/plain": [
       "                                                       Цифровой релиз  \\\n",
       "Название                                                                \n",
       "Унесенные ветром                                                 None   \n",
       "Римские каникулы                                                 None   \n",
       "12 разгневанных мужчин                                           None   \n",
       "В джазе только девушки                                           None   \n",
       "Психо                                                            None   \n",
       "...                                                               ...   \n",
       "Аферистка                                                    «Вольга»   \n",
       "Майор Гром: Чумной Доктор                                        None   \n",
       "Лига справедливости Зака Снайдера                      «КиноПоиск HD»   \n",
       "Мажор. Фильм                                           «КиноПоиск HD»   \n",
       "Конёк-Горбунок                     «Sony Pictures Home Entertainment»   \n",
       "\n",
       "                                           Бюджет  Количество оценок на IMDb  \\\n",
       "Название                                                                       \n",
       "Унесенные ветром                         $3977000                     294790   \n",
       "Римские каникулы                         $1500000                     129480   \n",
       "12 разгневанных мужчин                    $340000                     707165   \n",
       "В джазе только девушки                   $2883848                     248217   \n",
       "Психо                                     $806947                     616212   \n",
       "...                                           ...                        ...   \n",
       "Аферистка                                    None                      99150   \n",
       "Майор Гром: Чумной Доктор                    None                       2593   \n",
       "Лига справедливости Зака Снайдера      $370000000                     293515   \n",
       "Мажор. Фильм                                 None                        153   \n",
       "Конёк-Горбунок                     760000000 руб.                        430   \n",
       "\n",
       "                                           Страна  \\\n",
       "Название                                            \n",
       "Унесенные ветром                              США   \n",
       "Римские каникулы                              США   \n",
       "12 разгневанных мужчин                        США   \n",
       "В джазе только девушки                        США   \n",
       "Психо                                         США   \n",
       "...                                           ...   \n",
       "Аферистка                          Великобритания   \n",
       "Майор Гром: Чумной Доктор                  Россия   \n",
       "Лига справедливости Зака Снайдера  Великобритания   \n",
       "Мажор. Фильм                               Россия   \n",
       "Конёк-Горбунок                             Россия   \n",
       "\n",
       "                                                                            Монтаж  \\\n",
       "Название                                                                             \n",
       "Унесенные ветром                                                              None   \n",
       "Римские каникулы                                                      Роберт Свинк   \n",
       "12 разгневанных мужчин                                                 Карл Лернер   \n",
       "В джазе только девушки                                              Артур П. Шмидт   \n",
       "Психо                                                              Джордж Томазини   \n",
       "...                                                                            ...   \n",
       "Аферистка                                                             Марк Экерсли   \n",
       "Майор Гром: Чумной Доктор                                        Александр Пузырёв   \n",
       "Лига справедливости Зака Снайдера  [Дэвид Бреннер, Карлос М. Кастильон, Доди Дорн]   \n",
       "Мажор. Фильм                                                      Александр Иванов   \n",
       "Конёк-Горбунок                                                 Константин Ларченко   \n",
       "\n",
       "                                  Сборы в России  \\\n",
       "Название                                           \n",
       "Унесенные ветром                            None   \n",
       "Римские каникулы                            None   \n",
       "12 разгневанных мужчин                      None   \n",
       "В джазе только девушки                      None   \n",
       "Психо                                     $39919   \n",
       "...                                          ...   \n",
       "Аферистка                                $830916   \n",
       "Майор Гром: Чумной Доктор               $4458320   \n",
       "Лига справедливости Зака Снайдера           None   \n",
       "Мажор. Фильм                                None   \n",
       "Конёк-Горбунок                         $15814332   \n",
       "\n",
       "                                                                            Продюсер  \\\n",
       "Название                                                                               \n",
       "Унесенные ветром                                                    Дэвид О. Селзник   \n",
       "Римские каникулы                        [Уильям Уайлер, Роберт Уайлер, Лестер Кениг]   \n",
       "12 разгневанных мужчин                [Генри Фонда, Реджинальд Роуз, Джордж Джастин]   \n",
       "В джазе только девушки                [Билли Уайлдер, И.А.Л. Даймонд, Доан Харрисон]   \n",
       "Психо                                                                 Альфред Хичкок   \n",
       "...                                                                              ...   \n",
       "Аферистка                              [Бен Стиллман, Андреа Аджемиан, Дж. Блэйксон]   \n",
       "Майор Гром: Чумной Доктор           [Артем Габрелянов, Михаил Китаев, Ольга Филипук]   \n",
       "Лига справедливости Зака Снайдера       [Бен Аффлек, Уэсли Коллер, Марианн Дженкинс]   \n",
       "Мажор. Фильм                       [Александр Цекало, Иван Самохвалов, Александра...   \n",
       "Конёк-Горбунок                     [Антон Златопольский, Сергей Сельянов, Алексан...   \n",
       "\n",
       "                                              Время Сборы в США  \\\n",
       "Название                                                          \n",
       "Унесенные ветром                   222 мин. / 03:42  $189523031   \n",
       "Римские каникулы                   118 мин. / 01:58    $5000000   \n",
       "12 разгневанных мужчин              96 мин. / 01:36        None   \n",
       "В джазе только девушки             119 мин. / 01:59   $25000000   \n",
       "Психо                              109 мин. / 01:49   $32000000   \n",
       "...                                             ...         ...   \n",
       "Аферистка                          118 мин. / 01:58        None   \n",
       "Майор Гром: Чумной Доктор          136 мин. / 02:16        None   \n",
       "Лига справедливости Зака Снайдера  242 мин. / 04:02        None   \n",
       "Мажор. Фильм                        98 мин. / 01:38        None   \n",
       "Конёк-Горбунок                     111 мин. / 01:51        None   \n",
       "\n",
       "                                                                        Рейтинг MPAA  \\\n",
       "Название                                                                               \n",
       "Унесенные ветром                               PGрекомендуется присутствие родителей   \n",
       "Римские каникулы                                                                None   \n",
       "12 разгневанных мужчин                                                          None   \n",
       "В джазе только девушки                                                          None   \n",
       "Психо                              Rлицам до 17 лет обязательно присутствие взрос...   \n",
       "...                                                                              ...   \n",
       "Аферистка                          Rлицам до 17 лет обязательно присутствие взрос...   \n",
       "Майор Гром: Чумной Доктор                                                       None   \n",
       "Лига справедливости Зака Снайдера  Rлицам до 17 лет обязательно присутствие взрос...   \n",
       "Мажор. Фильм                                                                    None   \n",
       "Конёк-Горбунок                                                                  None   \n",
       "\n",
       "                                   ...  \\\n",
       "Название                           ...   \n",
       "Унесенные ветром                   ...   \n",
       "Римские каникулы                   ...   \n",
       "12 разгневанных мужчин             ...   \n",
       "В джазе только девушки             ...   \n",
       "Психо                              ...   \n",
       "...                                ...   \n",
       "Аферистка                          ...   \n",
       "Майор Гром: Чумной Доктор          ...   \n",
       "Лига справедливости Зака Снайдера  ...   \n",
       "Мажор. Фильм                       ...   \n",
       "Конёк-Горбунок                     ...   \n",
       "\n",
       "                                                                   Режиссер  \\\n",
       "Название                                                                      \n",
       "Унесенные ветром                   [Виктор Флеминг, Джордж Кьюкор, Сэм Вуд]   \n",
       "Римские каникулы                                              Уильям Уайлер   \n",
       "12 разгневанных мужчин                                          Сидни Люмет   \n",
       "В джазе только девушки                                        Билли Уайлдер   \n",
       "Психо                                                        Альфред Хичкок   \n",
       "...                                                                     ...   \n",
       "Аферистка                                                      Дж. Блэйксон   \n",
       "Майор Гром: Чумной Доктор                                       Олег Трофим   \n",
       "Лига справедливости Зака Снайдера                               Зак Снайдер   \n",
       "Мажор. Фильм                                                Николай Булыгин   \n",
       "Конёк-Горбунок                                                 Олег Погодин   \n",
       "\n",
       "                                  Возраст  \\\n",
       "Название                                    \n",
       "Унесенные ветром                      12+   \n",
       "Римские каникулы                       6+   \n",
       "12 разгневанных мужчин                16+   \n",
       "В джазе только девушки                12+   \n",
       "Психо                                 16+   \n",
       "...                                   ...   \n",
       "Аферистка                             18+   \n",
       "Майор Гром: Чумной Доктор             12+   \n",
       "Лига справедливости Зака Снайдера     18+   \n",
       "Мажор. Фильм                          16+   \n",
       "Конёк-Горбунок                         6+   \n",
       "\n",
       "                                                                            Сценарий  \\\n",
       "Название                                                                               \n",
       "Унесенные ветром                        [Сидни Ховард, Оливер Х.П. Гаррет, Бен Хект]   \n",
       "Римские каникулы                   [Далтон Трамбо, Йен МакЛеллан Хантер, Джон Дай...   \n",
       "12 разгневанных мужчин                                               Реджинальд Роуз   \n",
       "В джазе только девушки                 [Билли Уайлдер, И.А.Л. Даймонд, Роберт Тёрен]   \n",
       "Психо                                                                    Роберт Блох   \n",
       "...                                                                              ...   \n",
       "Аферистка                                                               Дж. Блэйксон   \n",
       "Майор Гром: Чумной Доктор           [Артем Габрелянов, Роман Котков, Евгений Еронин]   \n",
       "Лига справедливости Зака Снайдера            [Крис Террио, Джерри Сигел, Джо Шустер]   \n",
       "Мажор. Фильм                                                          Олег Маловичко   \n",
       "Конёк-Горбунок                         [Алексей Бородачёв, Олег Погодин, Петр Ершов]   \n",
       "\n",
       "                                    Премьера в мире  \\\n",
       "Название                                              \n",
       "Унесенные ветром                    15 декабря 1939   \n",
       "Римские каникулы                    20 августа 1953   \n",
       "12 разгневанных мужчин               10 апреля 1957   \n",
       "В джазе только девушки                19 марта 1959   \n",
       "Психо                                  16 июня 1960   \n",
       "...                                             ...   \n",
       "Аферистка                          12 сентября 2020   \n",
       "Майор Гром: Чумной Доктор                      None   \n",
       "Лига справедливости Зака Снайдера     18 марта 2021   \n",
       "Мажор. Фильм                                   None   \n",
       "Конёк-Горбунок                                 None   \n",
       "\n",
       "                                                                          Композитор  \\\n",
       "Название                                                                               \n",
       "Унесенные ветром                                                        Макс Штайнер   \n",
       "Римские каникулы                                                           Жорж Орик   \n",
       "12 разгневанных мужчин                                                Кенион Хопкинс   \n",
       "В джазе только девушки                                                   Адольф Дойч   \n",
       "Психо                                                               Бернард Херрманн   \n",
       "...                                                                              ...   \n",
       "Аферистка                                                                 Марк Канэм   \n",
       "Майор Гром: Чумной Доктор                                          Роман Селиверстов   \n",
       "Лига справедливости Зака Снайдера                                          Junkie XL   \n",
       "Мажор. Фильм                                                              Ryan Otter   \n",
       "Конёк-Горбунок                     [Иван Бурляев, Дмитрий Носков, Константин Купр...   \n",
       "\n",
       "                                  Директор фильма Средняя оценка на IMDb  \\\n",
       "Название                                                                   \n",
       "Унесенные ветром                             None                   8.10   \n",
       "Римские каникулы                             None                   8.00   \n",
       "12 разгневанных мужчин                       None                   9.00   \n",
       "В джазе только девушки                       None                   8.20   \n",
       "Психо                                        None                   8.50   \n",
       "...                                           ...                    ...   \n",
       "Аферистка                                    None                   6.30   \n",
       "Майор Гром: Чумной Доктор                    None                   6.50   \n",
       "Лига справедливости Зака Снайдера            None                   8.10   \n",
       "Мажор. Фильм                                 None                   5.40   \n",
       "Конёк-Горбунок                               None                   5.80   \n",
       "\n",
       "                                  Премьера в Росcии  Год производства  \\\n",
       "Название                                                                \n",
       "Унесенные ветром                               None              1939   \n",
       "Римские каникулы                               None              1953   \n",
       "12 разгневанных мужчин                         None              1956   \n",
       "В джазе только девушки                         None              1959   \n",
       "Психо                                    «Иноекино»              1960   \n",
       "...                                             ...               ...   \n",
       "Аферистка                                  «Вольга»              2020   \n",
       "Майор Гром: Чумной Доктор          «Дисней Студиос»              2021   \n",
       "Лига справедливости Зака Снайдера              None              2021   \n",
       "Мажор. Фильм                                   None              2021   \n",
       "Конёк-Горбунок                               «СППР»              2021   \n",
       "\n",
       "                                                      Релиз на DVD  \n",
       "Название                                                            \n",
       "Унесенные ветром                      7 августа 2002, «Мост-Видео»  \n",
       "Римские каникулы                   9 декабря 2003, «Film Prestige»  \n",
       "12 разгневанных мужчин                                        None  \n",
       "В джазе только девушки                19 февраля 2003, «DVD Магия»  \n",
       "Психо                                                         None  \n",
       "...                                                            ...  \n",
       "Аферистка                                                     None  \n",
       "Майор Гром: Чумной Доктор                                     None  \n",
       "Лига справедливости Зака Снайдера                             None  \n",
       "Мажор. Фильм                                                  None  \n",
       "Конёк-Горбунок                                                None  \n",
       "\n",
       "[795 rows x 31 columns]"
      ]
     },
     "execution_count": 632,
     "metadata": {},
     "output_type": "execute_result"
    }
   ],
   "source": [
    "dataset = pd.DataFrame.from_dict(table).set_index('Название').sort_values('Год производства')\n",
    "dataset"
   ]
  },
  {
   "cell_type": "markdown",
   "metadata": {
    "pycharm": {
     "name": "#%% md\n"
    }
   },
   "source": [
    "Ура, спустя много часов танцев с бубном по поводу парса, все готово\n",
    "\n",
    "Главное сохраниться после миссии."
   ]
  },
  {
   "cell_type": "code",
   "execution_count": 716,
   "metadata": {},
   "outputs": [],
   "source": [
    "dataset.to_csv('kinopoisk.csv', sep='\\t')"
   ]
  },
  {
   "cell_type": "markdown",
   "metadata": {
    "pycharm": {
     "name": "#%% md\n"
    }
   },
   "source": [
    "### Шаг 2"
   ]
  },
  {
   "cell_type": "code",
   "execution_count": 604,
   "metadata": {},
   "outputs": [
    {
     "data": {
      "text/plain": [
       "Цифровой релиз                    627\n",
       "Бюджет                             62\n",
       "Количество оценок на IMDb           0\n",
       "Страна                              0\n",
       "Монтаж                              5\n",
       "Сборы в России                    165\n",
       "Продюсер                           27\n",
       "Время                               0\n",
       "Сборы в США                        94\n",
       "Рейтинг MPAA                       81\n",
       "Оператор                            0\n",
       "Сборы в мире                       36\n",
       "Зрители                           183\n",
       "Релиз на Blu-ray                  337\n",
       "Жанр                                0\n",
       "Художник                            2\n",
       "Маркетинг                         717\n",
       "Слоган                              0\n",
       "Количество оценок на Кинопоиск      0\n",
       "Ре-релиз (РФ)                     772\n",
       "Средняя оценка на Кинопоиск         0\n",
       "Режиссер                            0\n",
       "Возраст                             1\n",
       "Сценарий                            0\n",
       "Премьера в мире                     7\n",
       "Композитор                          0\n",
       "Директор фильма                   768\n",
       "Средняя оценка на IMDb              0\n",
       "Премьера в Росcии                  99\n",
       "Год производства                    0\n",
       "Релиз на DVD                      173\n",
       "dtype: int64"
      ]
     },
     "execution_count": 604,
     "metadata": {},
     "output_type": "execute_result"
    }
   ],
   "source": [
    "dataset.isnull().sum()"
   ]
  },
  {
   "cell_type": "markdown",
   "metadata": {
    "pycharm": {
     "name": "#%% md\n"
    }
   },
   "source": [
    "Такие столбцы как Цифровой релиз, Маркетинг, Ре-релиз (РФ) и Директор фильма лучше будет удалить за отсутсвием данных в большинстве строк\n",
    "\n",
    "В столбце бюджет пропуски в целом нельзя заполнить какой-нибудь медианой, так как реальный бюджет может сильно отличаться от медианы (многие из фильмов с пропущенным значением вообще из ссср, следовательно оценить их стоимость достаточно сложно), но так как всего 49 (см. ниже) фильмов имеют бюджет не в долларах и 62 не имеют оценки бюджета, то столбец можно отредактировать, оставив в нем только бюджеты в долларах и заменив все остальные значение на 0\n",
    "\n",
    "Монтаж, продюсер, художник можно не заполнять, так как значения в этих столбцах составляют имена людей\n",
    "\n",
    "Столбцы Рейтинг MPAA и Возраст связаны, следовательно их можно заполнить относительно друг друга или при отсутсвии обоих не заполнять, так как нельзя с точностью убедиться в реальном рейтинге различных фильмов. (R - 18, Pg-13 - 16, Pg - 12, 6, 0)\n",
    "\n",
    "Релиз на DVD и Релиз на Blu-ray также следует оставить пустым, так как это означает что таких релизов не было.\n",
    "\n",
    "Столбец зрители заполнен пустыми листами, так как на сайте эта строка обозначалась как троеточие, его стоит удалить.\n",
    "\n",
    "В столбце Время следует оставить только количество минут (чтобы было числовое)."
   ]
  },
  {
   "cell_type": "code",
   "execution_count": 605,
   "metadata": {},
   "outputs": [
    {
     "data": {
      "text/plain": [
       "49"
      ]
     },
     "execution_count": 605,
     "metadata": {},
     "output_type": "execute_result"
    }
   ],
   "source": [
    "len(dataset) - dataset['Бюджет'].isnull().sum() - dataset['Бюджет'].apply(lambda x: '$' in str(x)).sum()"
   ]
  },
  {
   "cell_type": "code",
   "execution_count": 633,
   "metadata": {},
   "outputs": [],
   "source": [
    "def ruleRate(x, y):\n",
    "    if y is not None:\n",
    "        if y[:5] == 'PG-13':\n",
    "            return 'PG-13'\n",
    "        if y[0] == 'R':\n",
    "            return 'R'\n",
    "        return 'PG'\n",
    "    if x == '18+':\n",
    "        return 'R'\n",
    "    if x == '16+':\n",
    "        return 'PG-13'\n",
    "    return 'PG'\n",
    "\n",
    "\n",
    "dataset.drop(['Цифровой релиз', 'Сборы в мире', 'Зрители', 'Маркетинг', 'Ре-релиз (РФ)', 'Директор фильма'],\n",
    "             axis=1, inplace=True)\n",
    "dataset['Бюджет'] = dataset['Бюджет'].apply(lambda x: int(str(x).replace('$', '').strip()) if '$' in str(x) else None)\n",
    "dataset['Сборы в США'] = dataset['Сборы в США'].apply(\n",
    "    lambda x: int(str(x).replace('$', '').strip()) if '$' in str(x) else None)\n",
    "dataset['Время'] = dataset['Время'].apply(lambda x: int(x.split()[0]))\n",
    "dataset['Возраст'] = dataset['Возраст'].fillna(value='18+')\n",
    "dataset['Рейтинг MPAA'] = dataset.apply(lambda x: ruleRate(x['Возраст'], x['Рейтинг MPAA']), axis=1)\n",
    "dataset['Год производства'] = dataset['Год производства'].apply(lambda x: int(x))\n",
    "dataset = dataset.rename(columns={'Сборы в США': 'Сборы в США ($)',\n",
    "                                  'Сборы в России': 'Сборы в России ($)',\n",
    "                                  'Время': 'Время (мин.)', 'Бюджет': 'Бюджет ($)'})"
   ]
  },
  {
   "cell_type": "code",
   "execution_count": 624,
   "metadata": {},
   "outputs": [
    {
     "data": {
      "text/plain": [
       "Бюджет ($)                        111\n",
       "Количество оценок на IMDb           0\n",
       "Страна                              0\n",
       "Монтаж                              5\n",
       "Сборы в России ($)                165\n",
       "Продюсер                           27\n",
       "Время (мин.)                        0\n",
       "Сборы в США ($)                    94\n",
       "Рейтинг MPAA                        0\n",
       "Оператор                            0\n",
       "Релиз на Blu-ray                  337\n",
       "Жанр                                0\n",
       "Художник                            2\n",
       "Слоган                              0\n",
       "Количество оценок на Кинопоиск      0\n",
       "Средняя оценка на Кинопоиск         0\n",
       "Режиссер                            0\n",
       "Возраст                             0\n",
       "Сценарий                            0\n",
       "Премьера в мире                     7\n",
       "Композитор                          0\n",
       "Средняя оценка на IMDb              0\n",
       "Премьера в Росcии                  99\n",
       "Год производства                    0\n",
       "Релиз на DVD                      173\n",
       "dtype: int64"
      ]
     },
     "execution_count": 624,
     "metadata": {},
     "output_type": "execute_result"
    }
   ],
   "source": [
    "dataset.isnull().sum()"
   ]
  },
  {
   "cell_type": "markdown",
   "metadata": {
    "pycharm": {
     "name": "#%% md\n"
    }
   },
   "source": [
    "### Шаг 3\n",
    "\n",
    "В целом в датасете собрано большое количество столбцов и придумывать новые достаточно проблематично, но например:\n",
    "\n",
    "1) Прибыль по сборам в США фильмов, чей бюджет в долларах\n",
    "\n",
    "2) Какой день недели является днем премьеры в мире\n",
    "\n",
    "3) Среднюю оценку на кинопоиске и IMDb можно считать очень средней оценкой\n",
    "\n",
    "4) Также можно добавить столбец для десятилетия, в котором вышел фильм (от 39 до 21 года, поэотму десятилетия не перемешаются между столетиями)\n",
    "\n",
    "5) Количество стран, учавстовавших в создании фильма\n",
    "\n",
    "Собственно дальше уже вода какая-то (хотя 4 и 5 пункт тоже не особо нужны)"
   ]
  },
  {
   "cell_type": "code",
   "execution_count": 634,
   "metadata": {},
   "outputs": [],
   "source": [
    "import datetime\n",
    "\n",
    "\n",
    "def ruleDate(x):\n",
    "    if x is None:\n",
    "        return None\n",
    "    day, month, year = x.split()\n",
    "    day = int(day.strip())\n",
    "    year = int(year.strip())\n",
    "    if month[0] == 'я':\n",
    "        month = 1\n",
    "    elif month[0] == 'ф':\n",
    "        month = 2\n",
    "    elif month[:3] == 'мар':\n",
    "        month = 3\n",
    "    elif month[:2] == 'ап':\n",
    "        month = 4\n",
    "    elif month[0] == 'м':\n",
    "        month = 5\n",
    "    elif month[:3] == 'июн':\n",
    "        month = 6\n",
    "    elif month[0] == 'и':\n",
    "        month = 7\n",
    "    elif month[0] == 'а':\n",
    "        month = 8\n",
    "    elif month[0] == 'с':\n",
    "        month = 9\n",
    "    elif month[0] == 'о':\n",
    "        month = 10\n",
    "    elif month[0] == 'н':\n",
    "        month = 11\n",
    "    elif month[0] == 'д':\n",
    "        month = 12\n",
    "    weekday = datetime.date(year, month, day).weekday()\n",
    "    if weekday == 0:\n",
    "        return 'Понедельник'\n",
    "    if weekday == 1:\n",
    "        return 'Вторник'\n",
    "    if weekday == 2:\n",
    "        return 'Среда'\n",
    "    if weekday == 3:\n",
    "        return 'Четверг'\n",
    "    if weekday == 4:\n",
    "        return 'Пятница'\n",
    "    if weekday == 5:\n",
    "        return 'Суббота'\n",
    "    if weekday == 6:\n",
    "        return 'Воскресенье'\n",
    "\n",
    "\n",
    "def ruleCount(x):\n",
    "    if type(x) == str:\n",
    "        return 1\n",
    "    else:\n",
    "        return (len(x))\n",
    "\n",
    "\n",
    "dataset['Прибыль ($)'] = dataset.apply(lambda x: (x['Сборы в США ($)'] - x['Бюджет ($)'])\n",
    "if x['Сборы в США ($)'] is not None and x['Сборы в США ($)'] > 0\n",
    "   and x['Бюджет ($)'] is not None and x['Бюджет ($)'] > 0 else None, axis=1)\n",
    "\n",
    "dataset['Средняя оценка'] = dataset.apply(lambda x: round((x['Средняя оценка на Кинопоиск'] +\n",
    "                                                           x['Средняя оценка на IMDb']) / 2, 3), axis=1)\n",
    "dataset['День выхода'] = dataset['Премьера в мире'].apply(lambda x: ruleDate(x))\n",
    "\n",
    "dataset['Десятилетие'] = dataset['Год производства'].apply(lambda x: str((x % 100) - (x % 10)) + '-е')\n",
    "\n",
    "dataset['Количество стран'] = dataset['Страна'].apply(lambda x: ruleCount(x))\n",
    "\n",
    "dataset = dataset.reset_index()"
   ]
  },
  {
   "cell_type": "markdown",
   "metadata": {},
   "source": [
    "### Шаг 4 и шаг 5\n"
   ]
  },
  {
   "cell_type": "code",
   "execution_count": 516,
   "metadata": {},
   "outputs": [],
   "source": [
    "import matplotlib.pyplot as plt\n",
    "import seaborn as sns"
   ]
  },
  {
   "cell_type": "code",
   "execution_count": 537,
   "metadata": {},
   "outputs": [
    {
     "data": {
      "image/png": "[encoded data removed]",
      "text/plain": [
       "<Figure size 720x504 with 1 Axes>"
      ]
     },
     "metadata": {
      "needs_background": "light"
     },
     "output_type": "display_data"
    }
   ],
   "source": [
    "fig, ax = plt.subplots(figsize=(10, 7))\n",
    "sns.countplot(ax=ax, data=dataset, order=dataset['День выхода'].value_counts().index, x='День выхода');"
   ]
  },
  {
   "cell_type": "markdown",
   "metadata": {},
   "source": [
    "Можно сказать, что самые популярные фильмы по мнению пользователей кинопоиска (далее просто фильмы) чаще выходят по будням, но в целом, день выхода фильма не влияет на то станет он популярным (это как бы логично)"
   ]
  },
  {
   "cell_type": "code",
   "execution_count": 657,
   "metadata": {
    "scrolled": false
   },
   "outputs": [
    {
     "data": {
      "image/png": "[encoded data removed]",
      "text/plain": [
       "<Figure size 1080x720 with 1 Axes>"
      ]
     },
     "metadata": {
      "needs_background": "light"
     },
     "output_type": "display_data"
    }
   ],
   "source": [
    "fig, ax = plt.subplots(figsize=(15, 10))\n",
    "sns.histplot(dataset['Год производства'], ax=ax, kde=True, bins=50);"
   ]
  },
  {
   "cell_type": "markdown",
   "metadata": {},
   "source": [
    "Можно сказать, что конец нулевых - начало десятых - время выпуска самых популярных фильмов"
   ]
  },
  {
   "cell_type": "code",
   "execution_count": 663,
   "metadata": {},
   "outputs": [
    {
     "data": {
      "image/png": "[encoded data removed]",
      "text/plain": [
       "<Figure size 1080x720 with 1 Axes>"
      ]
     },
     "metadata": {
      "needs_background": "light"
     },
     "output_type": "display_data"
    }
   ],
   "source": [
    "fig, ax = plt.subplots(figsize=(15, 10))\n",
    "sns.histplot(dataset['Средняя оценка'], ax=ax, bins=30, kde=True);"
   ]
  },
  {
   "cell_type": "markdown",
   "metadata": {
    "pycharm": {
     "name": "#%% md\n"
    }
   },
   "source": [
    "Самые популярные фильмы в большинстве своем оцениваются зрителями хорошо или отлично"
   ]
  },
  {
   "cell_type": "code",
   "execution_count": 554,
   "metadata": {},
   "outputs": [
    {
     "data": {
      "image/png": "[encoded data removed]",
      "text/plain": [
       "<Figure size 1800x1080 with 1 Axes>"
      ]
     },
     "metadata": {
      "needs_background": "light"
     },
     "output_type": "display_data"
    }
   ],
   "source": [
    "countries = []\n",
    "for country in dataset['Страна']:\n",
    "    if type(country) == str:\n",
    "        countries.append(country)\n",
    "    else:\n",
    "        countries = countries + country\n",
    "for i in set(countries):\n",
    "    if countries.count(i) < 5:\n",
    "        countries = list(filter(lambda x: x != i, countries))\n",
    "countries = pd.DataFrame({'Страна': countries})\n",
    "fig, ax = plt.subplots(figsize=(25, 15))\n",
    "sns.countplot(ax=ax, data=countries, order=countries['Страна'].value_counts().index, x='Страна');"
   ]
  },
  {
   "cell_type": "markdown",
   "metadata": {},
   "source": [
    "Определенно, США являются абсолютным лидером в производстве массовых фильмов (2 место (Великобритания) отстает почти в 5 раз)"
   ]
  },
  {
   "cell_type": "code",
   "execution_count": 520,
   "metadata": {},
   "outputs": [
    {
     "data": {
      "text/html": [
       "<div>\n",
       "<style scoped>\n",
       "    .dataframe tbody tr th:only-of-type {\n",
       "        vertical-align: middle;\n",
       "    }\n",
       "\n",
       "    .dataframe tbody tr th {\n",
       "        vertical-align: top;\n",
       "    }\n",
       "\n",
       "    .dataframe thead th {\n",
       "        text-align: right;\n",
       "    }\n",
       "</style>\n",
       "<table border=\"1\" class=\"dataframe\">\n",
       "  <thead>\n",
       "    <tr style=\"text-align: right;\">\n",
       "      <th></th>\n",
       "      <th>Режиссер</th>\n",
       "      <th>Count</th>\n",
       "    </tr>\n",
       "  </thead>\n",
       "  <tbody>\n",
       "    <tr>\n",
       "      <th>360</th>\n",
       "      <td>Стивен Спилберг</td>\n",
       "      <td>12</td>\n",
       "    </tr>\n",
       "    <tr>\n",
       "      <th>310</th>\n",
       "      <td>Ридли Скотт</td>\n",
       "      <td>10</td>\n",
       "    </tr>\n",
       "    <tr>\n",
       "      <th>241</th>\n",
       "      <td>Майкл Бэй</td>\n",
       "      <td>10</td>\n",
       "    </tr>\n",
       "    <tr>\n",
       "      <th>78</th>\n",
       "      <td>Гай Ричи</td>\n",
       "      <td>10</td>\n",
       "    </tr>\n",
       "    <tr>\n",
       "      <th>217</th>\n",
       "      <td>Кристофер Нолан</td>\n",
       "      <td>9</td>\n",
       "    </tr>\n",
       "  </tbody>\n",
       "</table>\n",
       "</div>"
      ],
      "text/plain": [
       "            Режиссер  Count\n",
       "360  Стивен Спилберг     12\n",
       "310      Ридли Скотт     10\n",
       "241        Майкл Бэй     10\n",
       "78          Гай Ричи     10\n",
       "217  Кристофер Нолан      9"
      ]
     },
     "execution_count": 520,
     "metadata": {},
     "output_type": "execute_result"
    }
   ],
   "source": [
    "directors = []\n",
    "for i, (x, y) in dataset[['Режиссер', 'Средняя оценка']].iterrows():\n",
    "    if type(x) == list:\n",
    "        for j in x:\n",
    "            directors.append((j, y))\n",
    "    else:\n",
    "        directors.append((x, y))\n",
    "directors = pd.DataFrame(directors, columns=['Режиссер', 'Средняя оценка'])\n",
    "directors = directors.groupby('Режиссер').agg(Average=('Средняя оценка', 'mean'),\n",
    "                                              Count=('Средняя оценка', 'count')).reset_index().sort_values('Count',\n",
    "                                                                                                           ascending=False)\n",
    "directors[['Режиссер', 'Count']].head(5)"
   ]
  },
  {
   "cell_type": "markdown",
   "metadata": {},
   "source": [
    "Можно сказать, что представленные выше режиссеры являются авторами наибольшего количества популярных фильмов, самым популярным режиссером можно назвать Стивена Спилберга"
   ]
  },
  {
   "cell_type": "code",
   "execution_count": 521,
   "metadata": {},
   "outputs": [
    {
     "data": {
      "text/html": [
       "<div>\n",
       "<style scoped>\n",
       "    .dataframe tbody tr th:only-of-type {\n",
       "        vertical-align: middle;\n",
       "    }\n",
       "\n",
       "    .dataframe tbody tr th {\n",
       "        vertical-align: top;\n",
       "    }\n",
       "\n",
       "    .dataframe thead th {\n",
       "        text-align: right;\n",
       "    }\n",
       "</style>\n",
       "<table border=\"1\" class=\"dataframe\">\n",
       "  <thead>\n",
       "    <tr style=\"text-align: right;\">\n",
       "      <th></th>\n",
       "      <th>Режиссер</th>\n",
       "      <th>Average</th>\n",
       "    </tr>\n",
       "  </thead>\n",
       "  <tbody>\n",
       "    <tr>\n",
       "      <th>408</th>\n",
       "      <td>Фрэнсис Форд Коппола</td>\n",
       "      <td>8.664000</td>\n",
       "    </tr>\n",
       "    <tr>\n",
       "      <th>232</th>\n",
       "      <td>Леонид Гайдай</td>\n",
       "      <td>8.479400</td>\n",
       "    </tr>\n",
       "    <tr>\n",
       "      <th>404</th>\n",
       "      <td>Фрэнк Дарабонт</td>\n",
       "      <td>8.457667</td>\n",
       "    </tr>\n",
       "    <tr>\n",
       "      <th>321</th>\n",
       "      <td>Роберт Земекис</td>\n",
       "      <td>8.255000</td>\n",
       "    </tr>\n",
       "    <tr>\n",
       "      <th>217</th>\n",
       "      <td>Кристофер Нолан</td>\n",
       "      <td>8.230556</td>\n",
       "    </tr>\n",
       "  </tbody>\n",
       "</table>\n",
       "</div>"
      ],
      "text/plain": [
       "                 Режиссер   Average\n",
       "408  Фрэнсис Форд Коппола  8.664000\n",
       "232         Леонид Гайдай  8.479400\n",
       "404        Фрэнк Дарабонт  8.457667\n",
       "321        Роберт Земекис  8.255000\n",
       "217       Кристофер Нолан  8.230556"
      ]
     },
     "execution_count": 521,
     "metadata": {},
     "output_type": "execute_result"
    }
   ],
   "source": [
    "directors[directors['Count'] >= 3].sort_values('Average', ascending=False)[['Режиссер', 'Average']].head(5)"
   ]
  },
  {
   "cell_type": "markdown",
   "metadata": {},
   "source": [
    "Предствленные выше авторы являются авторами нескольких лучших (субъективно но кинопоиск + IMDb) популярных фильмов"
   ]
  },
  {
   "cell_type": "code",
   "execution_count": 522,
   "metadata": {},
   "outputs": [
    {
     "data": {
      "text/html": [
       "<div>\n",
       "<style scoped>\n",
       "    .dataframe tbody tr th:only-of-type {\n",
       "        vertical-align: middle;\n",
       "    }\n",
       "\n",
       "    .dataframe tbody tr th {\n",
       "        vertical-align: top;\n",
       "    }\n",
       "\n",
       "    .dataframe thead th {\n",
       "        text-align: right;\n",
       "    }\n",
       "</style>\n",
       "<table border=\"1\" class=\"dataframe\">\n",
       "  <thead>\n",
       "    <tr style=\"text-align: right;\">\n",
       "      <th></th>\n",
       "      <th>Режиссер</th>\n",
       "      <th>Страна</th>\n",
       "      <th>Средняя оценка</th>\n",
       "    </tr>\n",
       "    <tr>\n",
       "      <th>Название</th>\n",
       "      <th></th>\n",
       "      <th></th>\n",
       "      <th></th>\n",
       "    </tr>\n",
       "  </thead>\n",
       "  <tbody>\n",
       "    <tr>\n",
       "      <th>Побег из Шоушенка</th>\n",
       "      <td>Фрэнк Дарабонт</td>\n",
       "      <td>США</td>\n",
       "      <td>9.2045</td>\n",
       "    </tr>\n",
       "    <tr>\n",
       "      <th>Крестный отец</th>\n",
       "      <td>Фрэнсис Форд Коппола</td>\n",
       "      <td>США</td>\n",
       "      <td>8.9605</td>\n",
       "    </tr>\n",
       "    <tr>\n",
       "      <th>Список Шиндлера</th>\n",
       "      <td>Стивен Спилберг</td>\n",
       "      <td>США</td>\n",
       "      <td>8.8585</td>\n",
       "    </tr>\n",
       "    <tr>\n",
       "      <th>Форрест Гамп</th>\n",
       "      <td>Роберт Земекис</td>\n",
       "      <td>США</td>\n",
       "      <td>8.8545</td>\n",
       "    </tr>\n",
       "    <tr>\n",
       "      <th>Зеленая миля</th>\n",
       "      <td>Фрэнк Дарабонт</td>\n",
       "      <td>США</td>\n",
       "      <td>8.8305</td>\n",
       "    </tr>\n",
       "  </tbody>\n",
       "</table>\n",
       "</div>"
      ],
      "text/plain": [
       "                               Режиссер Страна  Средняя оценка\n",
       "Название                                                      \n",
       "Побег из Шоушенка        Фрэнк Дарабонт    США          9.2045\n",
       "Крестный отец      Фрэнсис Форд Коппола    США          8.9605\n",
       "Список Шиндлера         Стивен Спилберг    США          8.8585\n",
       "Форрест Гамп             Роберт Земекис    США          8.8545\n",
       "Зеленая миля             Фрэнк Дарабонт    США          8.8305"
      ]
     },
     "execution_count": 522,
     "metadata": {},
     "output_type": "execute_result"
    }
   ],
   "source": [
    "dataset.sort_values('Средняя оценка', ascending=False)[['Режиссер', 'Страна', 'Средняя оценка']].head(5)"
   ]
  },
  {
   "cell_type": "markdown",
   "metadata": {
    "pycharm": {
     "name": "#%% md\n"
    }
   },
   "source": [
    "Самые лучшие фильмы по мнению пользователей"
   ]
  },
  {
   "cell_type": "code",
   "execution_count": 526,
   "metadata": {},
   "outputs": [
    {
     "data": {
      "text/html": [
       "<div>\n",
       "<style scoped>\n",
       "    .dataframe tbody tr th:only-of-type {\n",
       "        vertical-align: middle;\n",
       "    }\n",
       "\n",
       "    .dataframe tbody tr th {\n",
       "        vertical-align: top;\n",
       "    }\n",
       "\n",
       "    .dataframe thead th {\n",
       "        text-align: right;\n",
       "    }\n",
       "</style>\n",
       "<table border=\"1\" class=\"dataframe\">\n",
       "  <thead>\n",
       "    <tr style=\"text-align: right;\">\n",
       "      <th></th>\n",
       "      <th>Название</th>\n",
       "      <th>Страна</th>\n",
       "      <th>Режиссер</th>\n",
       "      <th>Возраст</th>\n",
       "      <th>Средняя оценка</th>\n",
       "    </tr>\n",
       "  </thead>\n",
       "  <tbody>\n",
       "    <tr>\n",
       "      <th>0</th>\n",
       "      <td>Бриллиантовая рука</td>\n",
       "      <td>СССР</td>\n",
       "      <td>Леонид Гайдай</td>\n",
       "      <td>0+</td>\n",
       "      <td>8.4545</td>\n",
       "    </tr>\n",
       "    <tr>\n",
       "      <th>1</th>\n",
       "      <td>Форрест Гамп</td>\n",
       "      <td>США</td>\n",
       "      <td>Роберт Земекис</td>\n",
       "      <td>12+</td>\n",
       "      <td>8.8545</td>\n",
       "    </tr>\n",
       "    <tr>\n",
       "      <th>2</th>\n",
       "      <td>Побег из Шоушенка</td>\n",
       "      <td>США</td>\n",
       "      <td>Фрэнк Дарабонт</td>\n",
       "      <td>16+</td>\n",
       "      <td>9.2045</td>\n",
       "    </tr>\n",
       "    <tr>\n",
       "      <th>3</th>\n",
       "      <td>Криминальное чтиво</td>\n",
       "      <td>США</td>\n",
       "      <td>Квентин Тарантино</td>\n",
       "      <td>18+</td>\n",
       "      <td>8.7600</td>\n",
       "    </tr>\n",
       "    <tr>\n",
       "      <th>4</th>\n",
       "      <td>Операция «Ы» и другие приключения Шурика</td>\n",
       "      <td>СССР</td>\n",
       "      <td>Леонид Гайдай</td>\n",
       "      <td>6+</td>\n",
       "      <td>8.6545</td>\n",
       "    </tr>\n",
       "  </tbody>\n",
       "</table>\n",
       "</div>"
      ],
      "text/plain": [
       "                                   Название Страна           Режиссер Возраст  \\\n",
       "0                        Бриллиантовая рука   СССР      Леонид Гайдай      0+   \n",
       "1                              Форрест Гамп    США     Роберт Земекис     12+   \n",
       "2                         Побег из Шоушенка    США     Фрэнк Дарабонт     16+   \n",
       "3                        Криминальное чтиво    США  Квентин Тарантино     18+   \n",
       "4  Операция «Ы» и другие приключения Шурика   СССР      Леонид Гайдай      6+   \n",
       "\n",
       "   Средняя оценка  \n",
       "0          8.4545  \n",
       "1          8.8545  \n",
       "2          9.2045  \n",
       "3          8.7600  \n",
       "4          8.6545  "
      ]
     },
     "metadata": {},
     "output_type": "display_data"
    },
    {
     "data": {
      "text/html": [
       "<div>\n",
       "<style scoped>\n",
       "    .dataframe tbody tr th:only-of-type {\n",
       "        vertical-align: middle;\n",
       "    }\n",
       "\n",
       "    .dataframe tbody tr th {\n",
       "        vertical-align: top;\n",
       "    }\n",
       "\n",
       "    .dataframe thead th {\n",
       "        text-align: right;\n",
       "    }\n",
       "</style>\n",
       "<table border=\"1\" class=\"dataframe\">\n",
       "  <thead>\n",
       "    <tr style=\"text-align: right;\">\n",
       "      <th></th>\n",
       "      <th>Название</th>\n",
       "      <th>Страна</th>\n",
       "      <th>Режиссер</th>\n",
       "      <th>Рейтинг MPAA</th>\n",
       "      <th>Средняя оценка</th>\n",
       "    </tr>\n",
       "  </thead>\n",
       "  <tbody>\n",
       "    <tr>\n",
       "      <th>0</th>\n",
       "      <td>Операция «Ы» и другие приключения Шурика</td>\n",
       "      <td>СССР</td>\n",
       "      <td>Леонид Гайдай</td>\n",
       "      <td>PG</td>\n",
       "      <td>8.6545</td>\n",
       "    </tr>\n",
       "    <tr>\n",
       "      <th>1</th>\n",
       "      <td>Форрест Гамп</td>\n",
       "      <td>США</td>\n",
       "      <td>Роберт Земекис</td>\n",
       "      <td>PG-13</td>\n",
       "      <td>8.8545</td>\n",
       "    </tr>\n",
       "    <tr>\n",
       "      <th>2</th>\n",
       "      <td>Побег из Шоушенка</td>\n",
       "      <td>США</td>\n",
       "      <td>Фрэнк Дарабонт</td>\n",
       "      <td>R</td>\n",
       "      <td>9.2045</td>\n",
       "    </tr>\n",
       "  </tbody>\n",
       "</table>\n",
       "</div>"
      ],
      "text/plain": [
       "                                   Название Страна        Режиссер  \\\n",
       "0  Операция «Ы» и другие приключения Шурика   СССР   Леонид Гайдай   \n",
       "1                              Форрест Гамп    США  Роберт Земекис   \n",
       "2                         Побег из Шоушенка    США  Фрэнк Дарабонт   \n",
       "\n",
       "  Рейтинг MPAA  Средняя оценка  \n",
       "0           PG          8.6545  \n",
       "1        PG-13          8.8545  \n",
       "2            R          9.2045  "
      ]
     },
     "metadata": {},
     "output_type": "display_data"
    }
   ],
   "source": [
    "categories = dataset.groupby('Возраст').agg({'Средняя оценка': 'max'}).reset_index()\n",
    "age_categories = pd.merge(dataset, categories, on='Средняя оценка', how=\"right\",\n",
    "                          suffixes=('', '1'))[['Название', 'Страна', 'Режиссер', 'Возраст', 'Средняя оценка']]\n",
    "display(age_categories)\n",
    "categories = dataset.groupby('Рейтинг MPAA').agg({'Средняя оценка': 'max'}).reset_index()\n",
    "mpaa_categories = pd.merge(dataset, categories, on='Средняя оценка', how=\"right\",\n",
    "                           suffixes=('', '1'))[['Название', 'Страна', 'Режиссер', 'Рейтинг MPAA', 'Средняя оценка']]\n",
    "display(mpaa_categories)"
   ]
  },
  {
   "cell_type": "markdown",
   "metadata": {
    "pycharm": {
     "name": "#%% md\n"
    }
   },
   "source": [
    "Лучшие фильмы по разным системам возрастных категорий"
   ]
  },
  {
   "cell_type": "code",
   "execution_count": 528,
   "metadata": {},
   "outputs": [
    {
     "data": {
      "text/html": [
       "<div>\n",
       "<style scoped>\n",
       "    .dataframe tbody tr th:only-of-type {\n",
       "        vertical-align: middle;\n",
       "    }\n",
       "\n",
       "    .dataframe tbody tr th {\n",
       "        vertical-align: top;\n",
       "    }\n",
       "\n",
       "    .dataframe thead th {\n",
       "        text-align: right;\n",
       "    }\n",
       "</style>\n",
       "<table border=\"1\" class=\"dataframe\">\n",
       "  <thead>\n",
       "    <tr style=\"text-align: right;\">\n",
       "      <th></th>\n",
       "      <th>Название</th>\n",
       "      <th>Страна</th>\n",
       "      <th>Режиссер</th>\n",
       "      <th>Десятилетие</th>\n",
       "      <th>Средняя оценка</th>\n",
       "    </tr>\n",
       "  </thead>\n",
       "  <tbody>\n",
       "    <tr>\n",
       "      <th>8</th>\n",
       "      <td>Побег из Шоушенка</td>\n",
       "      <td>США</td>\n",
       "      <td>Фрэнк Дарабонт</td>\n",
       "      <td>90-е</td>\n",
       "      <td>9.2045</td>\n",
       "    </tr>\n",
       "    <tr>\n",
       "      <th>6</th>\n",
       "      <td>Крестный отец</td>\n",
       "      <td>США</td>\n",
       "      <td>Фрэнсис Форд Коппола</td>\n",
       "      <td>70-е</td>\n",
       "      <td>8.9605</td>\n",
       "    </tr>\n",
       "    <tr>\n",
       "      <th>0</th>\n",
       "      <td>Властелин колец: Возвращение короля</td>\n",
       "      <td>США</td>\n",
       "      <td>Питер Джексон</td>\n",
       "      <td>0-е</td>\n",
       "      <td>8.7665</td>\n",
       "    </tr>\n",
       "    <tr>\n",
       "      <th>4</th>\n",
       "      <td>12 разгневанных мужчин</td>\n",
       "      <td>США</td>\n",
       "      <td>Сидни Люмет</td>\n",
       "      <td>50-е</td>\n",
       "      <td>8.7570</td>\n",
       "    </tr>\n",
       "    <tr>\n",
       "      <th>1</th>\n",
       "      <td>Начало</td>\n",
       "      <td>Великобритания</td>\n",
       "      <td>Кристофер Нолан</td>\n",
       "      <td>10-е</td>\n",
       "      <td>8.7300</td>\n",
       "    </tr>\n",
       "    <tr>\n",
       "      <th>5</th>\n",
       "      <td>Хороший, плохой, злой</td>\n",
       "      <td>[Италия, Испания, Германия (ФРГ)]</td>\n",
       "      <td>Серджио Леоне</td>\n",
       "      <td>60-е</td>\n",
       "      <td>8.6570</td>\n",
       "    </tr>\n",
       "    <tr>\n",
       "      <th>7</th>\n",
       "      <td>Приключения Шерлока Холмса и доктора Ватсона: ...</td>\n",
       "      <td>СССР</td>\n",
       "      <td>Игорь Масленников</td>\n",
       "      <td>80-е</td>\n",
       "      <td>8.6505</td>\n",
       "    </tr>\n",
       "    <tr>\n",
       "      <th>3</th>\n",
       "      <td>Унесенные ветром</td>\n",
       "      <td>США</td>\n",
       "      <td>[Виктор Флеминг, Джордж Кьюкор, Сэм Вуд]</td>\n",
       "      <td>30-е</td>\n",
       "      <td>8.2375</td>\n",
       "    </tr>\n",
       "    <tr>\n",
       "      <th>2</th>\n",
       "      <td>Лига справедливости Зака Снайдера</td>\n",
       "      <td>Великобритания</td>\n",
       "      <td>Зак Снайдер</td>\n",
       "      <td>20-е</td>\n",
       "      <td>8.0395</td>\n",
       "    </tr>\n",
       "  </tbody>\n",
       "</table>\n",
       "</div>"
      ],
      "text/plain": [
       "                                            Название  \\\n",
       "8                                  Побег из Шоушенка   \n",
       "6                                      Крестный отец   \n",
       "0                Властелин колец: Возвращение короля   \n",
       "4                             12 разгневанных мужчин   \n",
       "1                                             Начало   \n",
       "5                              Хороший, плохой, злой   \n",
       "7  Приключения Шерлока Холмса и доктора Ватсона: ...   \n",
       "3                                   Унесенные ветром   \n",
       "2                  Лига справедливости Зака Снайдера   \n",
       "\n",
       "                              Страна  \\\n",
       "8                                США   \n",
       "6                                США   \n",
       "0                                США   \n",
       "4                                США   \n",
       "1                     Великобритания   \n",
       "5  [Италия, Испания, Германия (ФРГ)]   \n",
       "7                               СССР   \n",
       "3                                США   \n",
       "2                     Великобритания   \n",
       "\n",
       "                                   Режиссер Десятилетие  Средняя оценка  \n",
       "8                            Фрэнк Дарабонт        90-е          9.2045  \n",
       "6                      Фрэнсис Форд Коппола        70-е          8.9605  \n",
       "0                             Питер Джексон         0-е          8.7665  \n",
       "4                               Сидни Люмет        50-е          8.7570  \n",
       "1                           Кристофер Нолан        10-е          8.7300  \n",
       "5                             Серджио Леоне        60-е          8.6570  \n",
       "7                         Игорь Масленников        80-е          8.6505  \n",
       "3  [Виктор Флеминг, Джордж Кьюкор, Сэм Вуд]        30-е          8.2375  \n",
       "2                               Зак Снайдер        20-е          8.0395  "
      ]
     },
     "execution_count": 528,
     "metadata": {},
     "output_type": "execute_result"
    }
   ],
   "source": [
    "categories = dataset.groupby('Десятилетие').agg({'Средняя оценка': 'max'}).reset_index()\n",
    "year_categories = pd.merge(dataset, categories, on=['Средняя оценка', 'Десятилетие'], how=\"right\",\n",
    "                           suffixes=('', '1'))[\n",
    "    ['Название', 'Страна', 'Режиссер', 'Десятилетие', 'Средняя оценка']].sort_values('Средняя оценка', ascending=False)\n",
    "year_categories"
   ]
  },
  {
   "cell_type": "markdown",
   "metadata": {
    "pycharm": {
     "name": "#%% md\n"
    }
   },
   "source": [
    "Лучшие фильмы по десятилетиям (можно отметить что лучшие фильмы были сняты в конце прошлого - начале этого века)"
   ]
  },
  {
   "cell_type": "code",
   "execution_count": 535,
   "metadata": {},
   "outputs": [
    {
     "data": {
      "image/png": "[encoded data removed]",
      "text/plain": [
       "<Figure size 1800x1080 with 1 Axes>"
      ]
     },
     "metadata": {
      "needs_background": "light"
     },
     "output_type": "display_data"
    }
   ],
   "source": [
    "genres = []\n",
    "for genre in dataset['Жанр']:\n",
    "    if type(genre) == str:\n",
    "        genres.append(genre)\n",
    "    else:\n",
    "        genres = genres + genre\n",
    "genres = pd.DataFrame({'Жанр': genres})\n",
    "fig, ax = plt.subplots(figsize=(25, 15))\n",
    "sns.countplot(ax=ax, data=genres, order=genres['Жанр'].value_counts().index, x='Жанр');"
   ]
  },
  {
   "cell_type": "markdown",
   "metadata": {
    "pycharm": {
     "name": "#%% md\n"
    }
   },
   "source": [
    "Самыми популярными жанрами, среди самых популярных фильмов являются такие жанры как: \"драма\" и \"боевик\", тогда как фильмы в жанрах \"мюзикл\", \"вестерн\", \"музыка\", \"фильм-нуар\", \"детский\" редко становится очень популярными"
   ]
  },
  {
   "cell_type": "code",
   "execution_count": 635,
   "metadata": {},
   "outputs": [
    {
     "data": {
      "image/png": "[encoded data removed]",
      "text/plain": [
       "<Figure size 1800x1080 with 1 Axes>"
      ]
     },
     "metadata": {
      "needs_background": "light"
     },
     "output_type": "display_data"
    }
   ],
   "source": [
    "genres_n_profit_list = []\n",
    "for i, row in dataset[['Жанр', 'Прибыль ($)']].iterrows():\n",
    "    if type(row['Жанр']) == str:\n",
    "        genres_n_profit_list.append((row['Жанр'], row['Прибыль ($)']))\n",
    "    else:\n",
    "        for genre in row['Жанр']:\n",
    "            genres_n_profit_list.append((genre, row['Прибыль ($)']))\n",
    "genres_n_profit = pd.DataFrame(genres_n_profit_list, columns=['Жанр', 'Прибыль ($)'])\n",
    "genres_n_profit = genres_n_profit.groupby('Жанр').agg({'Прибыль ($)': 'mean'}).reset_index()\n",
    "fig, ax = plt.subplots(figsize=(25, 15))\n",
    "sns.barplot(ax=ax, x='Жанр', y='Прибыль ($)', data=genres_n_profit);"
   ]
  },
  {
   "cell_type": "markdown",
   "metadata": {
    "pycharm": {
     "name": "#%% md\n"
    }
   },
   "source": [
    "Удивительно, но самым прибыльным жанром считается мюзикл, при том, что количество фильмов в этом жанре мало, поэтому построим этот график для жанров, количество фильмов по которым больше 10"
   ]
  },
  {
   "cell_type": "code",
   "execution_count": 636,
   "metadata": {},
   "outputs": [
    {
     "data": {
      "image/png": "[encoded data removed]",
      "text/plain": [
       "<Figure size 1800x1080 with 1 Axes>"
      ]
     },
     "metadata": {
      "needs_background": "light"
     },
     "output_type": "display_data"
    }
   ],
   "source": [
    "genres_n_profit_more_10 = pd.DataFrame(genres_n_profit_list, columns=['Жанр', 'Прибыль ($)'])\n",
    "genres_n_profit_more_10 = genres_n_profit_more_10.groupby('Жанр').agg(Profit=('Прибыль ($)', 'mean'),\n",
    "                                                                      Count=('Жанр', 'count')).reset_index()\n",
    "genres_n_profit_more_10 = genres_n_profit_more_10[genres_n_profit_more_10['Count'] > 10]\n",
    "fig, ax = plt.subplots(figsize=(25, 15))\n",
    "sns.barplot(ax=ax, x='Жанр', y='Profit', data=genres_n_profit_more_10);"
   ]
  },
  {
   "cell_type": "markdown",
   "metadata": {
    "pycharm": {
     "name": "#%% md\n"
    }
   },
   "source": [
    "Теперь с уверенностью можно сказать, что самыми прибыльными популярными фильмами являются фильмы таких жанров как: \"Музыка\", \"Приключения\", \"Фантастика\", \"Семейный\", \"Фэнтези\". В целом нет жанров, которые среди популярных фильмов имеют низкую прибыль (что возможно логично, ведь они популярные)"
   ]
  },
  {
   "cell_type": "code",
   "execution_count": 687,
   "metadata": {},
   "outputs": [
    {
     "data": {
      "text/html": [
       "<style  type=\"text/css\" >\n",
       "#T_ccd5b_row0_col0,#T_ccd5b_row1_col1,#T_ccd5b_row2_col2,#T_ccd5b_row3_col3,#T_ccd5b_row4_col4,#T_ccd5b_row5_col5{\n",
       "            background-color:  #fcfdbf;\n",
       "            color:  #000000;\n",
       "        }#T_ccd5b_row0_col1,#T_ccd5b_row5_col3{\n",
       "            background-color:  #3d0f71;\n",
       "            color:  #f1f1f1;\n",
       "        }#T_ccd5b_row0_col2{\n",
       "            background-color:  #782281;\n",
       "            color:  #f1f1f1;\n",
       "        }#T_ccd5b_row0_col3{\n",
       "            background-color:  #842681;\n",
       "            color:  #f1f1f1;\n",
       "        }#T_ccd5b_row0_col4{\n",
       "            background-color:  #5f187f;\n",
       "            color:  #f1f1f1;\n",
       "        }#T_ccd5b_row0_col5{\n",
       "            background-color:  #feb47b;\n",
       "            color:  #000000;\n",
       "        }#T_ccd5b_row1_col0{\n",
       "            background-color:  #59157e;\n",
       "            color:  #f1f1f1;\n",
       "        }#T_ccd5b_row1_col2{\n",
       "            background-color:  #b5367a;\n",
       "            color:  #f1f1f1;\n",
       "        }#T_ccd5b_row1_col3{\n",
       "            background-color:  #d0416f;\n",
       "            color:  #f1f1f1;\n",
       "        }#T_ccd5b_row1_col4{\n",
       "            background-color:  #762181;\n",
       "            color:  #f1f1f1;\n",
       "        }#T_ccd5b_row1_col5{\n",
       "            background-color:  #701f81;\n",
       "            color:  #f1f1f1;\n",
       "        }#T_ccd5b_row2_col0{\n",
       "            background-color:  #792282;\n",
       "            color:  #f1f1f1;\n",
       "        }#T_ccd5b_row2_col1{\n",
       "            background-color:  #a5317e;\n",
       "            color:  #f1f1f1;\n",
       "        }#T_ccd5b_row2_col3{\n",
       "            background-color:  #df4a68;\n",
       "            color:  #000000;\n",
       "        }#T_ccd5b_row2_col4{\n",
       "            background-color:  #601880;\n",
       "            color:  #f1f1f1;\n",
       "        }#T_ccd5b_row2_col5{\n",
       "            background-color:  #882781;\n",
       "            color:  #f1f1f1;\n",
       "        }#T_ccd5b_row3_col0{\n",
       "            background-color:  #1e1149;\n",
       "            color:  #f1f1f1;\n",
       "        }#T_ccd5b_row3_col1{\n",
       "            background-color:  #721f81;\n",
       "            color:  #f1f1f1;\n",
       "        }#T_ccd5b_row3_col2{\n",
       "            background-color:  #9c2e7f;\n",
       "            color:  #f1f1f1;\n",
       "        }#T_ccd5b_row3_col4,#T_ccd5b_row3_col5,#T_ccd5b_row4_col0,#T_ccd5b_row4_col1,#T_ccd5b_row4_col2,#T_ccd5b_row4_col3{\n",
       "            background-color:  #000004;\n",
       "            color:  #f1f1f1;\n",
       "        }#T_ccd5b_row4_col5{\n",
       "            background-color:  #e75263;\n",
       "            color:  #000000;\n",
       "        }#T_ccd5b_row5_col0{\n",
       "            background-color:  #feaa74;\n",
       "            color:  #000000;\n",
       "        }#T_ccd5b_row5_col1{\n",
       "            background-color:  #341069;\n",
       "            color:  #f1f1f1;\n",
       "        }#T_ccd5b_row5_col2{\n",
       "            background-color:  #6a1c81;\n",
       "            color:  #f1f1f1;\n",
       "        }#T_ccd5b_row5_col4{\n",
       "            background-color:  #f7705c;\n",
       "            color:  #000000;\n",
       "        }</style><table id=\"T_ccd5b_\" ><thead>    <tr>        <th class=\"blank level0\" ></th>        <th class=\"col_heading level0 col0\" >Прибыль ($)</th>        <th class=\"col_heading level0 col1\" >Количество оценок на Кинопоиск</th>        <th class=\"col_heading level0 col2\" >Количество оценок на IMDb</th>        <th class=\"col_heading level0 col3\" >Средняя оценка</th>        <th class=\"col_heading level0 col4\" >Бюджет ($)</th>        <th class=\"col_heading level0 col5\" >Сборы в США ($)</th>    </tr></thead><tbody>\n",
       "                <tr>\n",
       "                        <th id=\"T_ccd5b_level0_row0\" class=\"row_heading level0 row0\" >Прибыль ($)</th>\n",
       "                        <td id=\"T_ccd5b_row0_col0\" class=\"data row0 col0\" >1.000000</td>\n",
       "                        <td id=\"T_ccd5b_row0_col1\" class=\"data row0 col1\" >0.354220</td>\n",
       "                        <td id=\"T_ccd5b_row0_col2\" class=\"data row0 col2\" >0.426497</td>\n",
       "                        <td id=\"T_ccd5b_row0_col3\" class=\"data row0 col3\" >0.229366</td>\n",
       "                        <td id=\"T_ccd5b_row0_col4\" class=\"data row0 col4\" >0.113443</td>\n",
       "                        <td id=\"T_ccd5b_row0_col5\" class=\"data row0 col5\" >0.842360</td>\n",
       "            </tr>\n",
       "            <tr>\n",
       "                        <th id=\"T_ccd5b_level0_row1\" class=\"row_heading level0 row1\" >Количество оценок на Кинопоиск</th>\n",
       "                        <td id=\"T_ccd5b_row1_col0\" class=\"data row1 col0\" >0.354220</td>\n",
       "                        <td id=\"T_ccd5b_row1_col1\" class=\"data row1 col1\" >1.000000</td>\n",
       "                        <td id=\"T_ccd5b_row1_col2\" class=\"data row1 col2\" >0.559290</td>\n",
       "                        <td id=\"T_ccd5b_row1_col3\" class=\"data row1 col3\" >0.458484</td>\n",
       "                        <td id=\"T_ccd5b_row1_col4\" class=\"data row1 col4\" >0.186598</td>\n",
       "                        <td id=\"T_ccd5b_row1_col5\" class=\"data row1 col5\" >0.338841</td>\n",
       "            </tr>\n",
       "            <tr>\n",
       "                        <th id=\"T_ccd5b_level0_row2\" class=\"row_heading level0 row2\" >Количество оценок на IMDb</th>\n",
       "                        <td id=\"T_ccd5b_row2_col0\" class=\"data row2 col0\" >0.426497</td>\n",
       "                        <td id=\"T_ccd5b_row2_col1\" class=\"data row2 col1\" >0.559290</td>\n",
       "                        <td id=\"T_ccd5b_row2_col2\" class=\"data row2 col2\" >1.000000</td>\n",
       "                        <td id=\"T_ccd5b_row2_col3\" class=\"data row2 col3\" >0.505840</td>\n",
       "                        <td id=\"T_ccd5b_row2_col4\" class=\"data row2 col4\" >0.119901</td>\n",
       "                        <td id=\"T_ccd5b_row2_col5\" class=\"data row2 col5\" >0.396128</td>\n",
       "            </tr>\n",
       "            <tr>\n",
       "                        <th id=\"T_ccd5b_level0_row3\" class=\"row_heading level0 row3\" >Средняя оценка</th>\n",
       "                        <td id=\"T_ccd5b_row3_col0\" class=\"data row3 col0\" >0.229366</td>\n",
       "                        <td id=\"T_ccd5b_row3_col1\" class=\"data row3 col1\" >0.458484</td>\n",
       "                        <td id=\"T_ccd5b_row3_col2\" class=\"data row3 col2\" >0.505840</td>\n",
       "                        <td id=\"T_ccd5b_row3_col3\" class=\"data row3 col3\" >1.000000</td>\n",
       "                        <td id=\"T_ccd5b_row3_col4\" class=\"data row3 col4\" >-0.242821</td>\n",
       "                        <td id=\"T_ccd5b_row3_col5\" class=\"data row3 col5\" >0.013993</td>\n",
       "            </tr>\n",
       "            <tr>\n",
       "                        <th id=\"T_ccd5b_level0_row4\" class=\"row_heading level0 row4\" >Бюджет ($)</th>\n",
       "                        <td id=\"T_ccd5b_row4_col0\" class=\"data row4 col0\" >0.113443</td>\n",
       "                        <td id=\"T_ccd5b_row4_col1\" class=\"data row4 col1\" >0.186598</td>\n",
       "                        <td id=\"T_ccd5b_row4_col2\" class=\"data row4 col2\" >0.119901</td>\n",
       "                        <td id=\"T_ccd5b_row4_col3\" class=\"data row4 col3\" >-0.242821</td>\n",
       "                        <td id=\"T_ccd5b_row4_col4\" class=\"data row4 col4\" >1.000000</td>\n",
       "                        <td id=\"T_ccd5b_row4_col5\" class=\"data row4 col5\" >0.630996</td>\n",
       "            </tr>\n",
       "            <tr>\n",
       "                        <th id=\"T_ccd5b_level0_row5\" class=\"row_heading level0 row5\" >Сборы в США ($)</th>\n",
       "                        <td id=\"T_ccd5b_row5_col0\" class=\"data row5 col0\" >0.842360</td>\n",
       "                        <td id=\"T_ccd5b_row5_col1\" class=\"data row5 col1\" >0.338841</td>\n",
       "                        <td id=\"T_ccd5b_row5_col2\" class=\"data row5 col2\" >0.396128</td>\n",
       "                        <td id=\"T_ccd5b_row5_col3\" class=\"data row5 col3\" >0.013993</td>\n",
       "                        <td id=\"T_ccd5b_row5_col4\" class=\"data row5 col4\" >0.630996</td>\n",
       "                        <td id=\"T_ccd5b_row5_col5\" class=\"data row5 col5\" >1.000000</td>\n",
       "            </tr>\n",
       "    </tbody></table>"
      ],
      "text/plain": [
       "<pandas.io.formats.style.Styler at 0x13b229cf8>"
      ]
     },
     "execution_count": 687,
     "metadata": {},
     "output_type": "execute_result"
    }
   ],
   "source": [
    "corr = dataset[\n",
    "    ['Прибыль ($)', 'Количество оценок на Кинопоиск', 'Количество оценок на IMDb', 'Средняя оценка', 'Бюджет ($)',\n",
    "     'Сборы в США ($)']].corr()\n",
    "corr.style.background_gradient(cmap = 'magma')"
   ]
  },
  {
   "cell_type": "markdown",
   "metadata": {
    "pycharm": {
     "name": "#%% md\n"
    }
   },
   "source": [
    "В представленных фильмах есть умеренная корреляция между количеством оценок на разных ресурсах и средней оценки с количеством оценок. Это говорит о том, то более оцениваемые фильмы имеют более выоскую среднюю оценку. Также присутсвует высокая зависимость между сборами в США и прибылью, что свидетельствует о том, что фильмы часто окупали себя в несколько раз, так же есть высокая зависимость между сборами в США и бюджетом, что говорит о том, что фильмы, на которые выделен большой бюджет, с большей вероятностью будут иметь большие сборы."
   ]
  },
  {
   "cell_type": "code",
   "execution_count": 665,
   "metadata": {},
   "outputs": [
    {
     "data": {
      "image/png": "[encoded data removed]",
      "text/plain": [
       "<Figure size 1800x1080 with 1 Axes>"
      ]
     },
     "metadata": {
      "needs_background": "light"
     },
     "output_type": "display_data"
    }
   ],
   "source": [
    "directors_n_profit = dataset[['Режиссер', 'Прибыль ($)']].dropna()\n",
    "directors = []\n",
    "for i, (x, y) in directors_n_profit[['Режиссер', 'Прибыль ($)']].iterrows():\n",
    "    if type(x) == list:\n",
    "        for j in x:\n",
    "            directors.append((j, y))\n",
    "    else:\n",
    "        directors.append((x, y))\n",
    "directors_n_profit = pd.DataFrame(directors, columns=['Режиссер', 'Прибыль ($)'])\n",
    "directors_n_profit = directors_n_profit.groupby('Режиссер').agg(Profit=('Прибыль ($)', 'mean'),\n",
    "                                                                Count=('Режиссер', 'count'))\n",
    "directors_n_profit = directors_n_profit[directors_n_profit['Count'] >= 3].reset_index().sort_values('Profit',\n",
    "                                                                                                    ascending=False)\n",
    "fig, ax = plt.subplots(figsize=(25, 15))\n",
    "sns.barplot(ax=ax, x='Режиссер', y='Profit', data=directors_n_profit.head(10));"
   ]
  },
  {
   "cell_type": "markdown",
   "metadata": {
    "pycharm": {
     "name": "#%% md\n"
    }
   },
   "source": [
    "Режиссером самых прибыльных среди популярных фильмов является  Джо Руссо"
   ]
  },
  {
   "cell_type": "code",
   "execution_count": 676,
   "metadata": {},
   "outputs": [
    {
     "data": {
      "image/png": "[encoded data removed]",
      "text/plain": [
       "<Figure size 1800x1080 with 1 Axes>"
      ]
     },
     "metadata": {
      "needs_background": "light"
     },
     "output_type": "display_data"
    }
   ],
   "source": [
    "genres_n_mark_list = []\n",
    "for i, row in dataset[['Жанр', 'Средняя оценка']].iterrows():\n",
    "    if type(row['Жанр']) == str:\n",
    "        genres_n_mark_list.append((row['Жанр'], row['Средняя оценка']))\n",
    "    else:\n",
    "        for genre in row['Жанр']:\n",
    "            genres_n_mark_list.append((genre, row['Средняя оценка']))\n",
    "genres_n_mark = pd.DataFrame(genres_n_mark_list, columns=['Жанр', 'Средняя оценка'])\n",
    "genres_n_mark = genres_n_mark.groupby('Жанр').agg(Mark=('Средняя оценка', 'mean'),\n",
    "                                                Count=('Жанр', 'count')).reset_index()\n",
    "genres_n_mark = genres_n_mark[genres_n_mark['Count'] > 3].sort_values('Mark', ascending=False)\n",
    "fig, ax = plt.subplots(figsize=(25, 15))\n",
    "sns.barplot(ax=ax, x='Жанр', y='Mark', data=genres_n_mark);"
   ]
  },
  {
   "cell_type": "markdown",
   "metadata": {
    "pycharm": {
     "name": "#%% md\n"
    }
   },
   "source": [
    "Сильные отличия в средней по жанрам оценке отсутсвуют, но пользователям больше нравтся фильмы жанров \"вестрн\" и \"биография\", нежели \"ужасы\" или \"фэнтези\""
   ]
  },
  {
   "cell_type": "code",
   "execution_count": 715,
   "metadata": {},
   "outputs": [
    {
     "data": {
      "image/png": "[encoded data removed]",
      "text/plain": [
       "<Figure size 1800x1080 with 1 Axes>"
      ]
     },
     "metadata": {
      "needs_background": "light"
     },
     "output_type": "display_data"
    }
   ],
   "source": [
    "PG = list(list(dataset.groupby('Рейтинг MPAA')['Средняя оценка'])[0][1])\n",
    "PG_13 = list(list(dataset.groupby('Рейтинг MPAA')['Средняя оценка'])[1][1])\n",
    "R = list(list(dataset.groupby('Рейтинг MPAA')['Средняя оценка'])[2][1])\n",
    "fig, ax = plt.subplots(figsize=(25, 15))\n",
    "ax.hist(x = [PG, PG_13, R], color = [(1,0.79,0),(0.72,0,0.58), (0,0.63,0.54)], label=['PG', 'PG-13', 'R'],\n",
    "        bins = np.arange(0,10,0.33));\n",
    "ax.legend()\n",
    "ax.xaxis.set_ticks(np.arange(0,10,0.5))\n",
    "ax.xlabel = 'Средняя оценка'\n",
    "ax.ylabel= 'Количество фильмов'"
   ]
  },
  {
   "cell_type": "markdown",
   "metadata": {
    "pycharm": {
     "name": "#%% md\n"
    }
   },
   "source": [
    "Количество фильмов с ретингом R стновится больше, чем PG-13 или PG, начиная с 7,5. И в целом оказывается, что фильмы рейтинга R лучше чем остальные, по оценкам на сайтах"
   ]
  }
 ],
 "metadata": {
  "kernelspec": {
   "display_name": "Python 3",
   "language": "python",
   "name": "python3"
  },
  "language_info": {
   "codemirror_mode": {
    "name": "ipython",
    "version": 3
   },
   "file_extension": ".py",
   "mimetype": "text/x-python",
   "name": "python",
   "nbconvert_exporter": "python",
   "pygments_lexer": "ipython3",
   "version": "3.7.3"
  }
 },
 "nbformat": 4,
 "nbformat_minor": 4
}